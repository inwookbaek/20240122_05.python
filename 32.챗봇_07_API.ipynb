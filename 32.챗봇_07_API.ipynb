{
 "cells": [
  {
   "cell_type": "markdown",
   "id": "a77c9635-1364-4d2b-aab9-c4161311758e",
   "metadata": {},
   "source": [
    "# 7. 챗봇API\n",
    "\n",
    "## 7.1 chatbot API?\n",
    "\n",
    "* 실습시 작성한 챗봇엔진서버와 직접통신을 하는 `카카오톡, 네이버톡톡등과 같은 메신저플랫폼과 챗봇엔진을 사용할 수 있는 챗봇API서버를 구축`해야 한다.\n",
    "* 챗봇기능을 지원하는 메신저플랫폼과 통신하기 위해서는 `REST API방식으로 챗봇서버를 구현`해야 한다.\n",
    "\n",
    "## 7.2 Python Flask\n",
    "\n",
    "* Flask는 파이썬 기반의 경량화된 프레임워크\n",
    "* `웹애플리케이션 경량 프레임워크 Flask'를 사용\n",
    "\n",
    "### 7.2.1 Hello Flask"
   ]
  },
  {
   "cell_type": "code",
   "execution_count": 1,
   "id": "44f4fe77-9c55-4fd5-a704-606f4fca6059",
   "metadata": {},
   "outputs": [
    {
     "name": "stdout",
     "output_type": "stream",
     "text": [
      "Name: Flask\n",
      "Version: 2.2.5\n",
      "Summary: A simple framework for building complex web applications.\n",
      "Home-page: https://palletsprojects.com/p/flask\n",
      "Author: Armin Ronacher\n",
      "Author-email: armin.ronacher@active-4.com\n",
      "License: BSD-3-Clause\n",
      "Location: C:\\Anaconda3\\Lib\\site-packages\n",
      "Requires: click, itsdangerous, Jinja2, Werkzeug\n",
      "Required-by: \n"
     ]
    }
   ],
   "source": [
    "!mkdir .\\hello_flask\n",
    "!pip show flask"
   ]
  },
  {
   "cell_type": "code",
   "execution_count": 5,
   "id": "33d16a86-0fc7-4e5e-b09a-b3c414144d7a",
   "metadata": {},
   "outputs": [
    {
     "name": "stdout",
     "output_type": "stream",
     "text": [
      "Overwriting ./hello_flask/app.py\n"
     ]
    }
   ],
   "source": [
    "%%writefile ./hello_flask/app.py\n",
    "# 1. Hello Flask 출력 & Login Form 출력\n",
    "# 실행 : python d:\\lec\\05.python\\hello_flask\\app.py\n",
    "from flask import Flask\n",
    "\n",
    "app = Flask(__name__)\n",
    "\n",
    "# https://localhost:5000/\n",
    "@app.route('/')\n",
    "def hello():\n",
    "    return 'Hello Falsk'\n",
    "\n",
    "# https://localhost:5000/login\n",
    "@app.route('/login')\n",
    "def login():\n",
    "    return 'Login Form'\n",
    "\n",
    "# https://localhost:5000/chatbot\n",
    "@app.route('/chatbot')\n",
    "def chatbot():\n",
    "    return '<h1>주문처리완료 : 주문해주셔서 감사합니다!</h1>'\n",
    "\n",
    "if __name__ == '__main__':\n",
    "    app.run()"
   ]
  },
  {
   "cell_type": "code",
   "execution_count": 15,
   "id": "16a3f1e9-1de1-40ee-9ad6-1ad05bad0d7d",
   "metadata": {},
   "outputs": [
    {
     "name": "stdout",
     "output_type": "stream",
     "text": [
      "Overwriting ./hello_flask/app_1.py\n"
     ]
    }
   ],
   "source": [
    "%%writefile ./hello_flask/app_1.py\n",
    "# 2. 동적으로 변수를 처리하는 방법\n",
    "from flask import Flask, render_template\n",
    "\n",
    "app = Flask(__name__)\n",
    "\n",
    "@app.route('/')\n",
    "def hello():\n",
    "    return 'Hello Flask?'\n",
    "\n",
    "# https://localhost:5000/info/홍길동\n",
    "@app.route('/info/<name>')\n",
    "def get_name(name):\n",
    "    return f'Hello {name}'\n",
    "\n",
    "# https://localhost:5000/JSON/1000/자장면 1개 주문할게요?\n",
    "@app.route('/JSON/<int:id>/<message>')\n",
    "def send_message(id, message):\n",
    "    json = {\n",
    "        \"id\": id,\n",
    "        \"message\": message,\n",
    "        \"xxx\": \"====================>\"\n",
    "    }\n",
    "    return json\n",
    "\n",
    "# https://localhost:5000/손흥민/32\n",
    "@app.route('/<name>/<int:age>')\n",
    "def hello_user(name, age):\n",
    "    return render_template('hello.html', name=name, age=age)\n",
    "\n",
    "if __name__ == '__main__':\n",
    "    app.run()"
   ]
  },
  {
   "cell_type": "code",
   "execution_count": 13,
   "id": "5b4db0dd-1daf-45d2-b727-763953e704d5",
   "metadata": {},
   "outputs": [],
   "source": [
    "!mkdir .\\hello_flask\\templates"
   ]
  },
  {
   "cell_type": "code",
   "execution_count": 16,
   "id": "09460e83-5d6f-4238-928d-4f00a351ed97",
   "metadata": {},
   "outputs": [
    {
     "name": "stdout",
     "output_type": "stream",
     "text": [
      "Overwriting .\\hello_flask\\templates\\hello.html\n"
     ]
    }
   ],
   "source": [
    "%%writefile .\\hello_flask\\templates\\hello.html\n",
    "<h1>이름 : {{name}}</h1>\n",
    "<h2>나이 : {{age}}</h2>"
   ]
  },
  {
   "cell_type": "markdown",
   "id": "3aa28368-36f0-4f5a-9b3e-5bdb2fa935fa",
   "metadata": {},
   "source": [
    "### 7.2.2 기본적인 REST API 서비스 구현하기"
   ]
  },
  {
   "cell_type": "code",
   "execution_count": 8,
   "id": "a56c4846-2272-47e0-9fe2-9e0307021ea5",
   "metadata": {},
   "outputs": [],
   "source": [
    "!mkdir .\\basic_restapi"
   ]
  },
  {
   "cell_type": "code",
   "execution_count": 25,
   "id": "56a206f2-bf32-4f73-b45a-ee2cecf996cc",
   "metadata": {},
   "outputs": [
    {
     "name": "stdout",
     "output_type": "stream",
     "text": [
      "Overwriting ./basic_restapi/app.py\n"
     ]
    }
   ],
   "source": [
    "%%writefile ./basic_restapi/app.py\n",
    "# 3. 기본적인 REST API 서버 구현하기\n",
    "# 실행 : python d:\\lec\\05.python\\basic_restapi\\app.py\n",
    "\n",
    "from flask import Flask, request, jsonify\n",
    "\n",
    "app = Flask(__name__)\n",
    "\n",
    "# 서비스리소스\n",
    "resource = []\n",
    "\n",
    "# 1) 사용자정보조회\n",
    "@app.route('/user/<int:userid>', methods=['GET'])\n",
    "def get_user(userid):\n",
    "    for user in resource:\n",
    "        if user['userid'] is userid:\n",
    "            return jsonify(user)\n",
    "    \n",
    "# 2) 사용자추가\n",
    "@app.route('/user', methods=['POST'])\n",
    "def add_user():\n",
    "    user = request.get_json()\n",
    "    resource.append(user)\n",
    "    return jsonify(resource)\n",
    "\n",
    "if __name__ == '__main__':\n",
    "    app.run()"
   ]
  },
  {
   "cell_type": "markdown",
   "id": "45809bb0-6a36-4fc8-9d68-b18417627ddd",
   "metadata": {},
   "source": [
    "##### REST API서비스의 구동을 지원해 주는 Tool\n",
    "1. Postman\n",
    "2. vscode에서 Thunder Client\n",
    "3. 크롬에서 Talend API Tester"
   ]
  },
  {
   "cell_type": "markdown",
   "id": "37986479-3dae-4a6b-9cbf-e6de921472f6",
   "metadata": {},
   "source": [
    "## 7.3 챗봇API구현\n",
    "\n",
    "##### 발화자질문\n",
    "```json\n",
    "{\n",
    "  \"query\":\"오늘 자장면 주문할게요\"\n",
    "}\n",
    "```\n",
    "\n",
    "##### 질의답변\n",
    "```json\n",
    "{\n",
    "    \"Answer\": \"자장면 주문 처리 완료되었습니다. \\n주문해주셔서 감사합니다.\",\n",
    "    \"AnswerImageUrl\": null,\n",
    "    \"Intent\": \"주문\",\n",
    "    \"NER\": \"[('오늘', 'B_DT'), ('자장면', 'B_FOOD'), ('주문', 'O')]\",\n",
    "    \"Query\": \"오늘 자장면 주문할게요\"\n",
    "}\n",
    "```\n"
   ]
  },
  {
   "cell_type": "code",
   "execution_count": 36,
   "id": "6828842d-0f50-4ef8-a73f-3fbbab0a1724",
   "metadata": {},
   "outputs": [
    {
     "name": "stderr",
     "output_type": "stream",
     "text": [
      "하위 디렉터리 또는 파일 .\\chatbot_api이(가) 이미 있습니다.\n",
      "하위 디렉터리 또는 파일 .\\chatbot_api\\templates이(가) 이미 있습니다.\n"
     ]
    }
   ],
   "source": [
    "!mkdir .\\chatbot_api\n",
    "!mkdir .\\chatbot_api\\templates"
   ]
  },
  {
   "cell_type": "code",
   "execution_count": 30,
   "id": "f92db0ec-5d08-4edf-8e98-676b6365d851",
   "metadata": {},
   "outputs": [
    {
     "name": "stdout",
     "output_type": "stream",
     "text": [
      "Writing ./chabot_api/templates/index.html\n"
     ]
    }
   ],
   "source": [
    "%%writefile ./chatbot_api/templates/index.html\n",
    "<h1>Index.html</h1>\n",
    "<h2>Chatbot REST API Home Page</h1>"
   ]
  },
  {
   "cell_type": "code",
   "execution_count": 37,
   "id": "c36ddd44-5e8d-4dfc-986c-d255ea2d6f9b",
   "metadata": {},
   "outputs": [
    {
     "name": "stdout",
     "output_type": "stream",
     "text": [
      "Overwriting ./chatbot_api/app.py\n"
     ]
    }
   ],
   "source": [
    "%%writefile ./chatbot_api/app.py\n",
    "# chatbot REST API 서버 구현하기\n",
    "from flask import Flask, request, jsonify, abort, render_template\n",
    "import socket\n",
    "import json\n",
    "\n",
    "# 챗봇엔진서버접속정보, ip, port\n",
    "host = \"127.0.0.1\"  # chatbot server\n",
    "port = 5050\n",
    "\n",
    "# Flask객체\n",
    "app = Flask(__name__)\n",
    "\n",
    "# ./chabot_api/templates/index.html\n",
    "@app.route('/', methods=['GET'])\n",
    "def index():\n",
    "    return render_template('index.html')\n",
    "\n",
    "# 1) chatbot server와 통신\n",
    "def get_answer_from_engine(bottype, query):\n",
    "    # chatbot서버와 연결\n",
    "    mySocket = socket.socket()\n",
    "    mySocket.connect((host, port))\n",
    "\n",
    "    # chatbot서버에 request(query)\n",
    "    json_data = {\n",
    "        \"Query\": query,\n",
    "        \"BotType\": bottype\n",
    "    }\n",
    "\n",
    "    # chatbot서버에 query전송\n",
    "    message = json.dumps(json_data)\n",
    "    mySocket.send(message.encode())\n",
    "\n",
    "    # chatbot서버에서 response\n",
    "    data = mySocket.recv(2048).decode()\n",
    "    ret_data = json.loads(data)\n",
    "\n",
    "    # chatbot서버에 연결된 socket자원을 해제\n",
    "    mySocket.close()\n",
    "\n",
    "    return ret_data\n",
    "\n",
    "# 2) chatbot엔진에 query를 전송하는 API\n",
    "# http://localhost:5000/query/TEST\n",
    "@app.route('/query/<bot_type>', methods=['POST'])\n",
    "def query(bot_type):\n",
    "   \n",
    "    body = request.get_json()\n",
    "\n",
    "    try:\n",
    "        if bot_type == \"TEST\":\n",
    "            # chatbot api test\n",
    "            ret = get_answer_from_engine(bottype=bot_type, query=body['query'])\n",
    "            return jsonify(ret)\n",
    "        elif bot_type == \"KAKAO\": # 카카오톡 skill\n",
    "            pass\n",
    "        elif bot_type == \"NAVER\": # 네이버톡톡 Web Hook 처리\n",
    "            pass\n",
    "        else:\n",
    "            # 정의되지 않은 bot_type일 경우 404발생\n",
    "            abort(404)\n",
    "    except Exception as e:\n",
    "        # 예외발생시 500에러 발생\n",
    "        abort(500)\n",
    "            \n",
    "if __name__ == '__main__':\n",
    "    app.run(host=\"0.0.0.0\", port=5000)  # WebServer"
   ]
  },
  {
   "cell_type": "markdown",
   "id": "128ab212-0a4e-4fc0-9d49-da86a223accb",
   "metadata": {},
   "source": [
    "### 7.3.1 챗봇 REST API애플리케이션 시작\n",
    "\n",
    "* cmd창(Termnal)\n",
    "  1. 챗봇서버 시작    : root폴더 > python bot.py\n",
    "  2. 챗봇WEB서버 시작 : root폴더 > python ./chatbot_api/app.py\n",
    "  3. 챗봇WEB서버 구동 : REST API서비스의 구동을 지원 Tool : Talend API Tester\n",
    "     - http://localhost:5000/query/TEST\n",
    "       \n",
    "```json\n",
    "{\r",
    "   \"query\":\"오늘 자장면 주문할게요\"\r\n",
    "  ```"
   ]
  }
 ],
 "metadata": {
  "kernelspec": {
   "display_name": "Python 3 (ipykernel)",
   "language": "python",
   "name": "python3"
  },
  "language_info": {
   "codemirror_mode": {
    "name": "ipython",
    "version": 3
   },
   "file_extension": ".py",
   "mimetype": "text/x-python",
   "name": "python",
   "nbconvert_exporter": "python",
   "pygments_lexer": "ipython3",
   "version": "3.11.7"
  }
 },
 "nbformat": 4,
 "nbformat_minor": 5
}
