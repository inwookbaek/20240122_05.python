{
 "cells": [
  {
   "cell_type": "markdown",
   "id": "907ae111-5492-4525-9424-2d0a70759616",
   "metadata": {},
   "source": [
    "# 5. 쳇봇학습툴만들기\n",
    "\n",
    "## 5.1 프로젝트구조\n",
    "\n",
    "###### chatbot 프로젝트\n",
    " - train_tools : 챗봇 학습툴 관련파일\n",
    " - models      : 챗봇엔진에서 사용하는 딥러닝 모델관련 파일\n",
    "   - intent    : 의도 분류 모델\n",
    "   - ner       : 개체인식모델\n",
    " - utils       : 챗봇 개발에 필요한 유틸리티 라이브러기\n",
    " - config      : 챗봇 개발에 필요한 환경설정\n",
    " - test        : 챗봇 개발에 필용한 테스트 코드"
   ]
  },
  {
   "cell_type": "code",
   "execution_count": null,
   "id": "dbe1004c-626e-4f39-aa9a-78620cd90505",
   "metadata": {},
   "outputs": [],
   "source": [
    "!mkdir .\\chatbot\\train_tools\\qna\n",
    "!mkdir .\\chatbot\\models\\intent\n",
    "!mkdir .\\chatbot\\models\\ner\n",
    "!mkdir .\\chatbot\\utils\n",
    "!mkdir .\\chatbot\\config\n",
    "!mkdir .\\chatbot\\test"
   ]
  },
  {
   "cell_type": "markdown",
   "id": "2d59b188-52f9-43e4-a578-525347c6787b",
   "metadata": {},
   "source": [
    "## 5.2 테이터베이스 & 테이블 생성\n",
    "\n",
    "#### chatbot_train_data\n",
    "1. id     : 학습데이터 ID\n",
    "1. intent : 의도명, 의도가 없는 경우 null\n",
    "1. ner    : 개체명, 개체명이 없는 경우 null\n",
    "1. query  : 질문 text\n",
    "1. answer : 답변 text\n",
    "1. answer_image : 답변image, 없는 경우 null"
   ]
  },
  {
   "cell_type": "code",
   "execution_count": 2,
   "id": "6cc32768-8edd-4318-8bfa-54de65087793",
   "metadata": {},
   "outputs": [
    {
     "name": "stdout",
     "output_type": "stream",
     "text": [
      "Overwriting .\\chatbot\\config\\DatabaseConfig.py\n"
     ]
    }
   ],
   "source": [
    "# %%writefile .\\chatbot\\config\\DatabaseConfig.py\n",
    "DB_HOST = '127.0.0.1'\n",
    "DB_USER = 'root'\n",
    "DB_PASSWORD = '12345'\n",
    "DB_NAME = 'chatbot'\n",
    "DB_PORT = 3306\n",
    "\n",
    "def DatabaseConfing():\n",
    "    global DB_HOST, DB_USER, DB_PASSWORD, DB_NAME, DB_PORT"
   ]
  },
  {
   "cell_type": "code",
   "execution_count": 8,
   "id": "88063050-3277-46f6-970a-39309f14f2ca",
   "metadata": {},
   "outputs": [
    {
     "name": "stdout",
     "output_type": "stream",
     "text": [
      "Overwriting .\\chatbot\\train_tools\\qna\\create_train_data_table.py\n"
     ]
    }
   ],
   "source": [
    "%%writefile .\\chatbot\\train_tools\\qna\\create_train_data_table.py\n",
    "import pymysql\n",
    "from chatbot.config. DatabaseConfig import *\n",
    "\n",
    "db = None\n",
    "\n",
    "try:\n",
    "    db = pymysql.connect(\n",
    "        host = DB_HOST, \n",
    "        port = DB_PORT,\n",
    "        user = DB_USER, \n",
    "        passwd = DB_PASSWORD,\n",
    "        db = DB_NAME,\n",
    "        charset = 'utf8'\n",
    "    )\n",
    "\n",
    "    # 테이블생성 sql 정의\n",
    "    sql = '''\n",
    "        create table if not exists chatbot_train_data (\n",
    "            id            int unsigned not null auto_increment,\n",
    "            intent        varchar(45),\n",
    "            ner           varchar(1024),\n",
    "            query         text null,\n",
    "            answer        text not null,\n",
    "            answer_image  varchar(2048) null,\n",
    "            primary key (id)\n",
    "        )\n",
    "        engine = InnoDB default charset=utf8\n",
    "    '''\n",
    "\n",
    "    # 테이블생성\n",
    "    with db.cursor() as cursor:\n",
    "        cursor.execute(sql)\n",
    "except Exception as e:\n",
    "    print(e)\n",
    "finally:\n",
    "    if db is not None:\n",
    "        db.close()"
   ]
  },
  {
   "cell_type": "markdown",
   "id": "8c9f065a-3ded-4e1f-88f0-734a440c4879",
   "metadata": {},
   "source": [
    "## 5.3 쳇봇학습데이터 연동하기\n",
    "\n",
    "* 엑셀파일 train_data.xls을 chatbot_train_data에 업로드하기\n",
    "* 설치 : pip install openpyxl\n",
    "\n",
    "#### train_data.xlsx 저장\n",
    "##### 컬럼* \n",
    "1. 의도(intent)    : 질문의 의도를 나타내는 텍스트, 의도가 없는 경우에는 공란\n",
    "2. 개체명인식(NER) : 질문에 필요한 개체명. 개체명이 없는 경우 공란\n",
    "3. 질문(Query)     : 질문테스트\n",
    "4. 답변(Answer)    : 답변테스트\n",
    "5. 답변이미지      : 답변에 들어갈 이미지 URL, 없는 경우 공란"
   ]
  },
  {
   "cell_type": "code",
   "execution_count": 10,
   "id": "7914ec50-0f70-43dc-919c-6aa00b66f5ef",
   "metadata": {},
   "outputs": [
    {
     "name": "stdout",
     "output_type": "stream",
     "text": [
      "Name: openpyxl\n",
      "Version: 3.0.10\n",
      "Summary: A Python library to read/write Excel 2010 xlsx/xlsm files\n",
      "Home-page: https://openpyxl.readthedocs.io\n",
      "Author: See AUTHORS\n",
      "Author-email: charlie.clark@clark-consulting.eu\n",
      "License: MIT\n",
      "Location: C:\\Anaconda3\\Lib\\site-packages\n",
      "Requires: et_xmlfile\n",
      "Required-by: \n"
     ]
    }
   ],
   "source": [
    "!pip show openpyxl"
   ]
  },
  {
   "cell_type": "code",
   "execution_count": 14,
   "id": "ddaa31d1-778d-4671-8a94-c352d3ec57c6",
   "metadata": {},
   "outputs": [
    {
     "name": "stdout",
     "output_type": "stream",
     "text": [
      "Overwriting .\\chatbot\\train_tools\\qna\\load_train_data.py\n"
     ]
    }
   ],
   "source": [
    "%%writefile .\\chatbot\\train_tools\\qna\\load_train_data.py\n",
    "import pymysql\n",
    "import openpyxl\n",
    "from chatbot.config.DatabaseConfig import *\n",
    "\n",
    "# 학습데이터초기화\n",
    "def all_clear_train_data(db):\n",
    "    # 기존 학습 데이터 삭제\n",
    "    sql = 'delete from chatbot_train_data'\n",
    "    with db.cursor() as cursor:\n",
    "        cursor.execute(sql)\n",
    "\n",
    "    \n",
    "# db에 데이터저장\n",
    "def insert_data(db, xls_row):\n",
    "    intent, ner, query, answer, answer_image_url = xls_row\n",
    "    sql = '''\n",
    "        insert chatbot_train_data(intent, ner, query, answer, answer_image) \n",
    "        values('%s','%s','%s','%s','%s')\n",
    "    ''' % (intent.value, ner.value, query.value, answer.value, answer_image_url.value)\n",
    "\n",
    "    # 엑셀에서 불러온 cell에 데이터가 없을 경우 Null로 치환\n",
    "    sql = sql.replace(\"None\", \"null\")\n",
    "    \n",
    "    with db.cursor() as cursor:\n",
    "        cursor.execute(sql)  \n",
    "        print(f'{query.value}이 성공적으로 저장되었습니다!!')\n",
    "        db.commit()\n",
    "\n",
    "train_file = './chatbot/train_tools/qna/train_data.xlsx'\n",
    "\n",
    "db = None\n",
    "\n",
    "try:\n",
    "    db = pymysql.connect(\n",
    "        host = DB_HOST, \n",
    "        port = DB_PORT,\n",
    "        user = DB_USER, \n",
    "        passwd = DB_PASSWORD,\n",
    "        db = DB_NAME,\n",
    "        charset = 'utf8'\n",
    "    )\n",
    "\n",
    "    # 기존 학습데이터 초기화\n",
    "    all_clear_train_data(db)\n",
    "\n",
    "    # train_data.xls데이터 업로드\n",
    "    wb = openpyxl.load_workbook(train_file)\n",
    "    sheet = wb['Sheet1']\n",
    "\n",
    "    for row in sheet.iter_rows(min_row=2): # header행은 skip\n",
    "        insert_data(db, row) # 데이터저장\n",
    "except Exception as e:\n",
    "    print(e)\n",
    "finally:\n",
    "    if db is not None:\n",
    "        db.close()"
   ]
  }
 ],
 "metadata": {
  "kernelspec": {
   "display_name": "Python 3 (ipykernel)",
   "language": "python",
   "name": "python3"
  },
  "language_info": {
   "codemirror_mode": {
    "name": "ipython",
    "version": 3
   },
   "file_extension": ".py",
   "mimetype": "text/x-python",
   "name": "python",
   "nbconvert_exporter": "python",
   "pygments_lexer": "ipython3",
   "version": "3.11.7"
  }
 },
 "nbformat": 4,
 "nbformat_minor": 5
}
