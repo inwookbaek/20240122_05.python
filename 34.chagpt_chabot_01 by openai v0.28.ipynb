{
 "cells": [
  {
   "cell_type": "markdown",
   "id": "0aef0f65-4577-400f-b7dc-3304a17261cd",
   "metadata": {},
   "source": [
    "# ChatGPT (OpenAI)\n",
    "\n",
    "* pip install openai==0.28"
   ]
  },
  {
   "cell_type": "code",
   "execution_count": 1,
   "id": "9fb082c6-b6c2-4205-883e-1ecec864488e",
   "metadata": {},
   "outputs": [
    {
     "name": "stdout",
     "output_type": "stream",
     "text": [
      "Defaulting to user installation because normal site-packages is not writeable\n",
      "Collecting openai==0.28\n",
      "  Downloading openai-0.28.0-py3-none-any.whl.metadata (13 kB)\n",
      "Requirement already satisfied: requests>=2.20 in c:\\anaconda3\\lib\\site-packages (from openai==0.28) (2.31.0)\n",
      "Requirement already satisfied: tqdm in c:\\anaconda3\\lib\\site-packages (from openai==0.28) (4.65.0)\n",
      "Requirement already satisfied: aiohttp in c:\\anaconda3\\lib\\site-packages (from openai==0.28) (3.9.3)\n",
      "Requirement already satisfied: charset-normalizer<4,>=2 in c:\\anaconda3\\lib\\site-packages (from requests>=2.20->openai==0.28) (2.0.4)\n",
      "Requirement already satisfied: idna<4,>=2.5 in c:\\anaconda3\\lib\\site-packages (from requests>=2.20->openai==0.28) (3.4)\n",
      "Requirement already satisfied: urllib3<3,>=1.21.1 in c:\\anaconda3\\lib\\site-packages (from requests>=2.20->openai==0.28) (2.0.7)\n",
      "Requirement already satisfied: certifi>=2017.4.17 in c:\\anaconda3\\lib\\site-packages (from requests>=2.20->openai==0.28) (2024.2.2)\n",
      "Requirement already satisfied: aiosignal>=1.1.2 in c:\\anaconda3\\lib\\site-packages (from aiohttp->openai==0.28) (1.2.0)\n",
      "Requirement already satisfied: attrs>=17.3.0 in c:\\anaconda3\\lib\\site-packages (from aiohttp->openai==0.28) (23.1.0)\n",
      "Requirement already satisfied: frozenlist>=1.1.1 in c:\\anaconda3\\lib\\site-packages (from aiohttp->openai==0.28) (1.4.0)\n",
      "Requirement already satisfied: multidict<7.0,>=4.5 in c:\\anaconda3\\lib\\site-packages (from aiohttp->openai==0.28) (6.0.4)\n",
      "Requirement already satisfied: yarl<2.0,>=1.0 in c:\\anaconda3\\lib\\site-packages (from aiohttp->openai==0.28) (1.9.3)\n",
      "Requirement already satisfied: colorama in c:\\anaconda3\\lib\\site-packages (from tqdm->openai==0.28) (0.4.6)\n",
      "Downloading openai-0.28.0-py3-none-any.whl (76 kB)\n",
      "   ---------------------------------------- 0.0/76.5 kB ? eta -:--:--\n",
      "   ---------------------------------------- 0.0/76.5 kB ? eta -:--:--\n",
      "   --------------------- ------------------ 41.0/76.5 kB 991.0 kB/s eta 0:00:01\n",
      "   ---------------------------------------- 76.5/76.5 kB 1.1 MB/s eta 0:00:00\n",
      "Installing collected packages: openai\n",
      "  Attempting uninstall: openai\n",
      "    Found existing installation: openai 1.16.2\n",
      "    Uninstalling openai-1.16.2:\n",
      "      Successfully uninstalled openai-1.16.2\n",
      "Successfully installed openai-0.28.0\n"
     ]
    },
    {
     "name": "stderr",
     "output_type": "stream",
     "text": [
      "  WARNING: The script openai.exe is installed in 'C:\\Users\\EZEN\\AppData\\Roaming\\Python\\Python311\\Scripts' which is not on PATH.\n",
      "  Consider adding this directory to PATH or, if you prefer to suppress this warning, use --no-warn-script-location.\n"
     ]
    },
    {
     "name": "stdout",
     "output_type": "stream",
     "text": [
      "Name: openai\n",
      "Version: 0.28.0\n",
      "Summary: Python client library for the OpenAI API\n",
      "Home-page: https://github.com/openai/openai-python\n",
      "Author: OpenAI\n",
      "Author-email: support@openai.com\n",
      "License: \n",
      "Location: C:\\Users\\EZEN\\AppData\\Roaming\\Python\\Python311\\site-packages\n",
      "Requires: aiohttp, requests, tqdm\n",
      "Required-by: \n"
     ]
    }
   ],
   "source": [
    "!pip install openai==0.28\n",
    "!pip show openai"
   ]
  },
  {
   "cell_type": "code",
   "execution_count": 16,
   "id": "f6108b47-1b7d-4ad7-82e9-15bf797dedcf",
   "metadata": {},
   "outputs": [
    {
     "name": "stderr",
     "output_type": "stream",
     "text": [
      "하위 디렉터리 또는 파일 chatgpt이(가) 이미 있습니다.\n"
     ]
    }
   ],
   "source": [
    "!mkdir chatgpt\n",
    "!mkdir chatgpt\\templates"
   ]
  },
  {
   "cell_type": "code",
   "execution_count": 14,
   "id": "f37b4163-b08b-40d4-9b77-5391bf561f4d",
   "metadata": {},
   "outputs": [
    {
     "name": "stdout",
     "output_type": "stream",
     "text": [
      "Overwriting .\\chatgpt\\chatgpt_test.py\n"
     ]
    }
   ],
   "source": [
    "%%writefile .\\chatgpt\\chatgpt_test.py\n",
    "import openai\n",
    "from flask import Flask, request, jsonify\n",
    "\n",
    "app = Flask(__name__)\n",
    "\n",
    "# openAI API 키 설정\n",
    "openai.api_key = 'sk-your openai api key'\n",
    "\n",
    "@app.route('/', methods=['GET'])\n",
    "def index():\n",
    "    return \"Hello chatGPT\"\n",
    "    \n",
    "@app.route('/chatbot', methods=['POST'])\n",
    "def chatbot():\n",
    "   \n",
    "    # 1. 클라이언트로부터 메시지(발화자 질의) 받기\n",
    "    user_message = request.json['message']\n",
    "    print(user_message)\n",
    "    \n",
    "    # 2. chatGPT에 대화 시작요청 보내기\n",
    "    response = openai.Completion.create(\n",
    "        engine= 'text-davinci-003',  # chatGPT 3.5\n",
    "        # engine= 'gpt-3.5-turbo-0125',        \n",
    "        prompt=f'User: {user_message}\\nChatGPT'\n",
    "    )\n",
    "    \n",
    "    # # 3. chatGPT의 응답전송\n",
    "    chatgpt_response = response['choices'][0]['text'].strip()\n",
    "    \n",
    "    # return response\n",
    "    return jsonify({'message': chatgpt_response})\n",
    "    \n",
    "if __name__ == '__main__':\n",
    "    app.run()"
   ]
  },
  {
   "cell_type": "code",
   "execution_count": 17,
   "id": "858cfad1-a012-4c26-9658-50d9c4e3dbd9",
   "metadata": {},
   "outputs": [
    {
     "name": "stdout",
     "output_type": "stream",
     "text": [
      "Writing .\\chatgpt\\templates\\index.html\n"
     ]
    }
   ],
   "source": [
    "%%writefile .\\chatgpt\\templates\\index.html\n",
    "<!-- templates/index.html -->\n",
    "\n",
    "<!DOCTYPE html>\n",
    "<html lang=\"en\">\n",
    "<head>\n",
    "    <meta charset=\"UTF-8\">\n",
    "    <meta http-equiv=\"X-UA-Compatible\" content=\"IE=edge\">\n",
    "    <meta name=\"viewport\" content=\"width=device-width, initial-scale=1.0\">\n",
    "    <title>ChatGPT Chatbot</title>\n",
    "</head>\n",
    "<body>\n",
    "    <h1>ChatGPT Chatbot</h1>\n",
    "    <form action=\"/ask\" method=\"post\">\n",
    "        <label for=\"user_input\">You:</label>\n",
    "        <input type=\"text\" id=\"user_input\" name=\"user_input\" required>\n",
    "        <button type=\"submit\">Ask</button>\n",
    "    </form>\n",
    "    {% if user_input %}\n",
    "        <p>You: {{ user_input }}</p>\n",
    "        <p>ChatGPT: {{ bot_reply }}</p>\n",
    "    {% endif %}\n",
    "</body>\n",
    "</html>"
   ]
  },
  {
   "cell_type": "markdown",
   "id": "791e2c39-00d3-4b29-a67f-14b9545e38fd",
   "metadata": {},
   "source": [
    "<!DOCTYPE html>\n",
    "<html lang=\"en\">\n",
    "<head>\n",
    "    <meta charset=\"UTF-8\">\n",
    "    <meta http-equiv=\"X-UA-Compatible\" content=\"IE=edge\">\n",
    "    <meta name=\"viewport\" content=\"width=device-width, initial-scale=1.0\">\n",
    "    <title>ChatGPT Chatbot</title>\n",
    "</head>\n",
    "<body>\n",
    "    <h1>ChatGPT Chatbot</h1>\n",
    "    <form action=\"/ask\" method=\"post\">\n",
    "        <label for=\"user_input\">You:</label>\n",
    "        <input type=\"text\" id=\"user_input\" name=\"user_input\" required>\n",
    "        <button type=\"submit\">Ask</button>\n",
    "    </form>\n",
    "    {% if user_input %}\n",
    "        <p>You: {{ user_input }}</p>\n",
    "        <p>ChatGPT: {{ bot_reply }}</p>\n",
    "    {% endif %}\n",
    "</body>\n",
    "</html>"
   ]
  },
  {
   "cell_type": "code",
   "execution_count": 22,
   "id": "76e0a22b-05a5-4e73-93d3-7aea2680c3e4",
   "metadata": {},
   "outputs": [
    {
     "name": "stdout",
     "output_type": "stream",
     "text": [
      "Overwriting .\\chatgpt\\app.py\n"
     ]
    }
   ],
   "source": [
    "%%writefile .\\chatgpt\\app.py\n",
    "from flask import Flask, request, render_template\n",
    "import openai\n",
    "\n",
    "app = Flask(__name__)\n",
    "\n",
    "openai.api_key = 'sk-your openai api key'\n",
    "\n",
    "@app.route('/')\n",
    "def index():\n",
    "    return render_template(\"index.html\")\n",
    "\n",
    "@app.route('/ask', methods=['POST'])\n",
    "def ask():\n",
    "    user_input = request.form['user_input']\n",
    "    \n",
    "    response = openai.Completion.create(\n",
    "        engine= 'text-davinci-003',  # chatGPT 3.5       \n",
    "        prompt=user_input,\n",
    "        max_tokens=150  # 원하는 토큰의 갯수를 임의로 정의\n",
    "    )\n",
    "    \n",
    "    bot_reply = response['choices'][0]['text'].strip()\n",
    "    \n",
    "    return render_template(\"index.html\", user_input=user_input, bot_reply=bot_reply)\n",
    "\n",
    "if __name__ == '__main__':\n",
    "    app.run()"
   ]
  }
 ],
 "metadata": {
  "kernelspec": {
   "display_name": "Python 3 (ipykernel)",
   "language": "python",
   "name": "python3"
  },
  "language_info": {
   "codemirror_mode": {
    "name": "ipython",
    "version": 3
   },
   "file_extension": ".py",
   "mimetype": "text/x-python",
   "name": "python",
   "nbconvert_exporter": "python",
   "pygments_lexer": "ipython3",
   "version": "3.11.7"
  }
 },
 "nbformat": 4,
 "nbformat_minor": 5
}
