{
 "cells": [
  {
   "cell_type": "markdown",
   "id": "6303dfdf-12e4-4593-bfd1-437cf0731bed",
   "metadata": {},
   "source": [
    "# 3. 텍스트유사도\n",
    "\n",
    "* 챗봇엔진에서 입력된 문장에서 챗봇시스템에서 답변이 얼마나 유사한지에 따라 적절한 답변이 가능하다.\n",
    "\n",
    "## 3.1. n-gramp 유사도\n",
    "\n",
    "* n-gram은 문장에서 n개의 연속적인 단어의 시퀀스를 의미한다.\n",
    "* n-gram은 문장에서 n개의 단어를 token으로 사용한다.\n",
    "* `이웃한 단어의 출현횟수를 통계적으로 표현해서 텍스트의 유사도를 계산하는 방법`이다.\n",
    "* 참고 : https://uumini.tistory.com/69\n",
    "\n",
    "##### 문장간 유사도 계산\n",
    "* 문장을 n-gram으로 토큰을 분리한 후 단어문서행렬(TDM, Term Document Matrix)를 만든다.\n",
    "* 이후, `두 문장을 비교해서 동일단어의 출현빈도를 확률로 계산해 유사도`를 구할 수 있다.\n",
    "* A, B 두 문장이 있을 때 B가 A와 얼마나 유사한지 확률을 구하는 공식\n",
    ">n-gram유사도\n",
    ">>$simularity=\\frac{tf(A,B)}{tokens(A)}$\n",
    ">* tf(term frequent)는 두 문장 A와 B에서 동일한 토큰의 출현빈도를 의미\n",
    ">* tokens는 해당 문장에서 전체 토큰수를 의미\n",
    ">* 여기서 토큰이란 n-gram으로 분리된 단어 즉, 기준문장 A의 전체 토큰중에서 A와 B이 동일톤큰의 확률표현식\n",
    ">* 1.0에 가까울 수록 B가 A에 유사하다고 볼 수가 있다.\n",
    "\n",
    "##### 2-gram을 이용한 예제\n",
    ">* A : 6월에 뉴턴은 선생님의 제안으로 트리니티에 입학했다.\n",
    ">* B : 6월에 뉴턴은 선생님의 제안으로 대학교에 입학했다.\n",
    ">||(6월, 뉴턴)|(뉴턴,선생님)|(선생님, 제안)|(제안, 트리니티)|(트리니티, 입학)|(입학)||\n",
    "|:-----|:---------:|:---------:|:---------:|:---------:|:---------:|:---------:|:---------:|\n",
    "|A|1|1|1|1|1|1|6(tokens(A)|\n",
    "|B|1|1|1|0|0|1|4(tf(A, B)|\n",
    ">>* 4/6 = 0.66 즉, 2개의 문장 B와 A는 66%의 유사도가 있다."
   ]
  },
  {
   "cell_type": "code",
   "execution_count": 1,
   "id": "39878cf0-717b-4d40-af77-aea1182b11dd",
   "metadata": {},
   "outputs": [],
   "source": [
    "a = '6월에 뉴턴은 선생님의 제안으로 트리니티에 입학했다.'\n",
    "b = '6월에 뉴턴은 선생님의 제안으로 대학교에 입학했다.'\n",
    "c = '나는 맛있는 밥을 뉴턴 선생님과 함께 먹었습니다.'"
   ]
  },
  {
   "cell_type": "code",
   "execution_count": 2,
   "id": "2fddbc7f-b06c-4bdf-a362-4ec02cbb3259",
   "metadata": {},
   "outputs": [],
   "source": [
    "from konlpy.tag import Komoran\n",
    "\n",
    "# 1. 어절단위 n-gram\n",
    "def word_ngram(bow, n_gram):\n",
    "    text = tuple(bow)\n",
    "    ngrams = [text[x:x+n_gram] for x in range(0, len(text))]\n",
    "    return tuple(ngrams)\n",
    "\n",
    "# 2. 음절 n-gram\n",
    "def phoneme_ngram(bow, n_gram):\n",
    "    sentence = ' '.join(bow)\n",
    "    text = tuple(sentence)\n",
    "    ngrams = [text[x:x+n_gram] for x in range(0, len(text))]\n",
    "    return tuple(ngrams)\n",
    "\n",
    "# 3. 유사도계산\n",
    "def similarity(stn1, stn2):\n",
    "    cnt = 0\n",
    "    for token in stn1:\n",
    "        if token in stn2:\n",
    "            cnt = cnt + 1\n",
    "    return cnt/len(stn1)"
   ]
  },
  {
   "cell_type": "code",
   "execution_count": 3,
   "id": "e0063401-aaef-4f17-a912-726e1d9cf7f9",
   "metadata": {},
   "outputs": [
    {
     "name": "stdout",
     "output_type": "stream",
     "text": [
      "['6월', '뉴턴', '선생님', '제안', '트리니티', '입학']\n",
      "['6월', '뉴턴', '선생님', '제안', '대학교', '입학']\n",
      "['밥', '뉴턴', '선생', '님과 함께']\n"
     ]
    }
   ],
   "source": [
    "komoran = Komoran()\n",
    "\n",
    "bow1 = komoran.nouns(a)\n",
    "bow2 = komoran.nouns(b)\n",
    "bow3 = komoran.nouns(c)\n",
    "print(bow1)\n",
    "print(bow2)\n",
    "print(bow3)"
   ]
  },
  {
   "cell_type": "code",
   "execution_count": 8,
   "id": "01f1e00c-f968-4235-b693-9c73a706608e",
   "metadata": {},
   "outputs": [
    {
     "name": "stdout",
     "output_type": "stream",
     "text": [
      "(('6월', '뉴턴'), ('뉴턴', '선생님'), ('선생님', '제안'), ('제안', '트리니티'), ('트리니티', '입학'), ('입학',))\n",
      "(('6월', '뉴턴'), ('뉴턴', '선생님'), ('선생님', '제안'), ('제안', '대학교'), ('대학교', '입학'), ('입학',))\n",
      "(('밥', '뉴턴'), ('뉴턴', '선생'), ('선생', '님과 함께'), ('님과 함께',))\n"
     ]
    }
   ],
   "source": [
    "stn1 = word_ngram(bow1, 2)\n",
    "stn2 = word_ngram(bow2, 2)\n",
    "stn3 = word_ngram(bow3, 2)\n",
    "print(stn1)\n",
    "print(stn2)\n",
    "print(stn3)"
   ]
  },
  {
   "cell_type": "code",
   "execution_count": 6,
   "id": "39917d66-6518-4f85-a6df-8261629069d9",
   "metadata": {},
   "outputs": [
    {
     "name": "stdout",
     "output_type": "stream",
     "text": [
      "a와 b문장의 유사도 = 0.667\n",
      "a와 c문장의 유사도 = 0.000\n"
     ]
    }
   ],
   "source": [
    "r1 = similarity(stn1, stn2)\n",
    "r2 = similarity(stn1, stn3)\n",
    "print(f'a와 b문장의 유사도 = {r1:.3f}')\n",
    "print(f'a와 c문장의 유사도 = {r2:.3f}')\n",
    "\n",
    "# 결과분석\n",
    "# n-gram은 문장에서 나타나는 단어의 빈도수를 계산하는 것이 아니라 연속된 문장에서 n개의\n",
    "# 단어의 유사도를 계산한다.\n",
    "# n-grams의 모델에서 n개의 값의 설정은 매우 중요하다. 보통 2~5사이의 값을 사용한다."
   ]
  },
  {
   "cell_type": "code",
   "execution_count": 10,
   "id": "17083ef6-2d20-48f1-ba0b-45fca7f164ea",
   "metadata": {},
   "outputs": [
    {
     "name": "stdout",
     "output_type": "stream",
     "text": [
      "(('6월', '뉴턴', '선생님'), ('뉴턴', '선생님', '제안'), ('선생님', '제안', '트리니티'), ('제안', '트리니티', '입학'), ('트리니티', '입학'), ('입학',))\n",
      "(('6월', '뉴턴', '선생님'), ('뉴턴', '선생님', '제안'), ('선생님', '제안', '대학교'), ('제안', '대학교', '입학'), ('대학교', '입학'), ('입학',))\n",
      "(('밥', '뉴턴', '선생'), ('뉴턴', '선생', '님과 함께'), ('선생', '님과 함께'), ('님과 함께',))\n",
      "a와 b문장의 유사도 = 0.500\n",
      "a와 c문장의 유사도 = 0.000\n"
     ]
    }
   ],
   "source": [
    "# tri-grams 적용\n",
    "stn1 = word_ngram(bow1, 3)\n",
    "stn2 = word_ngram(bow2, 3)\n",
    "stn3 = word_ngram(bow3, 3)\n",
    "print(stn1)\n",
    "print(stn2)\n",
    "print(stn3)\n",
    "\n",
    "r1 = similarity(stn1, stn2)\n",
    "r2 = similarity(stn1, stn3)\n",
    "print(f'a와 b문장의 유사도 = {r1:.3f}')\n",
    "print(f'a와 c문장의 유사도 = {r2:.3f}')"
   ]
  },
  {
   "cell_type": "markdown",
   "id": "9688181c-c20e-447d-9cec-736a3db5efab",
   "metadata": {},
   "source": [
    "## 3.2 코사인 유사도\n",
    "\n",
    "* 단어나 문장을 벡터로 표현할 수 있다면 벡터간의 거리나 각도를 이용해서 유사도을 파악할 수 있다.\n",
    "* 벡터간의 거리를 구하는 방법은 다양하지만 `코사인유사오(cosine similarity)`를 사용\n",
    "  1. 코사인 유사도는 `두 벡터간 코사인각도를 이용해서 유사도를 측정하는 방법`이다.\n",
    "  2. 일반적으로 벡터의 크기가 중요하지 않을 때 그 거리를 측정하기 위해 사용한다.\n",
    "  3. 예를 들어 단어의 출현빈도를 통해 유사도를 계산한다면 동일단어가 많이 포함될 수록 벡터크기가 커진다.\n",
    "  4. 이때 `코사인유사도는 벡터의 크기와 상관없이 결과가 안정적`이다.\n",
    "  5. 코사인유사도는 다양한 차원에서 적용이 가능해서 실무에 많이 사용한다.\n",
    "  >코사인유사도 $$similarity = cos\\Theta = \\frac{A\\cdot B}{\\left \\| A \\right \\|\\left \\| B \\right \\|} = \\frac{\\sum_{i=1}^{n}A_i\\cdot B_i}{\\sqrt{\\sum_{i=1}^{n}(A_i)^2}\\cdot \\sqrt{\\sum_{i=1}^{n}(B_i)^2}}$$\n",
    "  \n",
    "  >##### 2-gram을 이용한 예제\n",
    "  >* A : 6월에 뉴턴은 선생님의 제안으로 트리니티에 입학했다.\n",
    "  >* B : 6월에 뉴턴은 선생님의 제안으로 대학교에 입학했다.\n",
    "  >* 단어문서행렬표현(명사만 추출)\n",
    "  >|문장|6월|뉴턴|선생님|제안|트리니티|입학|대학||\n",
    "   |:-----|:-------:|:-------:|:-------:|:-------:|:-------:|:-------:|:-------:|:-------:|\n",
    "   |A|1|1|1|1|1|1|0|\n",
    "   |B|1|1|1|1|0|1|1|\n",
    "  >>* A = [1,1,1,1,1,1,0]\n",
    "  >>* B = [1,1,1,1,0,1,1]\n",
    "  >>* ${A\\cdot B} = {\\sum_{i=1}^{n}A_i\\cdot B_i}$\n",
    "  >>$= (1x1)+(1x1)+(1x1)+(1x1)+(1x0)+(1x1)+(0x1)$\n",
    "  >>$=1+1+1+1+0+1+0$\n",
    "  >>$=5$\n",
    "  >>\n",
    "  >>* $\\left \\| A \\right \\|\\left \\| B \\right \\| = \\sqrt{\\sum_{i=1}^{n}(A_i)^2}\\cdot \\sqrt{\\sum_{i=1}^{n}(B_i)^2}$\n",
    "  >>$=\\sqrt{1^2+1^2+1^2+1^2+1^2+1^2+1^0}x\\sqrt{1^2+1^2+1^2+1^2+0^2+1^2+1^2}$\n",
    "  >>$=\\sqrt{6}x\\sqrt{6}$\n",
    "  >>$=\\sqrt{36}$\n",
    "  >>$=6$\n",
    "  >>\n",
    "  >>$similarity = cos\\Theta = \\frac{A\\cdot B}{\\left \\| A \\right \\|\\left \\| B \\right \\|} = \\frac{5}{6}$\n",
    "  >>$=0.8333333$\n",
    "\n",
    "##### 코사인유사도에서는 주로 L2norm(유클리드노름)을 주로 사용\n",
    ">$유클리드노름 : l2norm = \\sqrt{\\sum\\left | x_i \\right |^2}$\n",
    "\n",
    "* 참고 코사인의 개념 : http://mwultong.blogspot.com/2008/03/cos-cosine-graph.html"
   ]
  },
  {
   "cell_type": "code",
   "execution_count": 11,
   "id": "186e2dbb-9ebe-4394-bd28-35cbdf2b580a",
   "metadata": {},
   "outputs": [],
   "source": [
    "# 코사인유사도계산\n",
    "from konlpy.tag import Komoran\n",
    "import numpy as np\n",
    "from numpy import dot\n",
    "from numpy.linalg import norm"
   ]
  },
  {
   "cell_type": "code",
   "execution_count": 12,
   "id": "46c64eff-b0e6-46a9-9321-bc2b3940da8b",
   "metadata": {},
   "outputs": [],
   "source": [
    "# 코사인유사도계산함수\n",
    "def cos_sim(A, B):\n",
    "    return dot(A, B) / (norm(A) * norm(B))"
   ]
  },
  {
   "cell_type": "code",
   "execution_count": 13,
   "id": "8b478b3d-325a-4cb0-8dfd-216962dfca03",
   "metadata": {},
   "outputs": [],
   "source": [
    "# TDM(Term Document Matrix) : 단어문서행렬\n",
    "# 비교할 문장에서 추출한 단어를 기준으로 문장에 해당하는 단어들이 얼마나 포함되어 \n",
    "# 있는지를 나타내는 행렬\n",
    "# 단언문서행렬생성함수\n",
    "def make_term_doc_mat(sentence_bow, word_dics):\n",
    "    freq_mat = {}\n",
    "\n",
    "    # 단어문서행렬초기화\n",
    "    for word in word_dics:\n",
    "        freq_mat[word] = 0\n",
    "\n",
    "    # 단어문서행렬생성\n",
    "    for word in word_dics:\n",
    "        if word in sentence_bow:\n",
    "            freq_mat[word] += 1\n",
    "\n",
    "    return freq_mat\n",
    "\n",
    "# TDM에서 표현된 토큰들의 출현빈도수를 벡터로 변환함수 - 단어벡터생성\n",
    "def make_vector(tdm):\n",
    "    vec = []\n",
    "    for key in tdm:\n",
    "        vec.append(tdm[key])\n",
    "    return vec"
   ]
  },
  {
   "cell_type": "code",
   "execution_count": 14,
   "id": "d4658275-24df-4c50-9c96-1c4c89d06923",
   "metadata": {},
   "outputs": [],
   "source": [
    "a = '6월에 뉴턴은 선생님의 제안으로 트리니티에 입학했다.'\n",
    "b = '6월에 뉴턴은 선생님의 제안으로 대학교에 입학했다.'\n",
    "c = '나는 맛있는 밥을 뉴턴 선생님과 함께 먹었습니다.'"
   ]
  },
  {
   "cell_type": "code",
   "execution_count": 15,
   "id": "44ffde0e-1770-4bc4-8fc9-b558ed34f97e",
   "metadata": {},
   "outputs": [
    {
     "name": "stdout",
     "output_type": "stream",
     "text": [
      "['6월', '뉴턴', '선생님', '제안', '트리니티', '입학']\n",
      "['6월', '뉴턴', '선생님', '제안', '대학교', '입학']\n",
      "['밥', '뉴턴', '선생', '님과 함께']\n"
     ]
    }
   ],
   "source": [
    "komoran = Komoran()\n",
    "bow1 = komoran.nouns(a)\n",
    "bow2 = komoran.nouns(b)\n",
    "bow3 = komoran.nouns(c)\n",
    "print(bow1)\n",
    "print(bow2)\n",
    "print(bow3)"
   ]
  },
  {
   "cell_type": "code",
   "execution_count": 22,
   "id": "bd5f5a8a-bfec-47dc-9af3-167cb379c620",
   "metadata": {},
   "outputs": [
    {
     "name": "stdout",
     "output_type": "stream",
     "text": [
      "16 ['6월', '뉴턴', '선생님', '제안', '트리니티', '입학', '6월', '뉴턴', '선생님', '제안', '대학교', '입학', '밥', '뉴턴', '선생', '님과 함께'] \n",
      "\n",
      "10 ['6월', '뉴턴', '선생님', '제안', '트리니티', '입학', '대학교', '밥', '선생', '님과 함께']\n",
      "10 ['6월' '뉴턴' '님과 함께' '대학교' '밥' '선생' '선생님' '입학' '제안' '트리니티']\n",
      "\n",
      "{'6월': 1, '뉴턴': 1, '선생님': 1, '제안': 1, '트리니티': 1, '입학': 1, '대학교': 0, '밥': 0, '선생': 0, '님과 함께': 0}\n",
      "{'6월': 1, '뉴턴': 1, '선생님': 1, '제안': 1, '트리니티': 0, '입학': 1, '대학교': 1, '밥': 0, '선생': 0, '님과 함께': 0}\n",
      "{'6월': 0, '뉴턴': 1, '선생님': 0, '제안': 0, '트리니티': 0, '입학': 0, '대학교': 0, '밥': 1, '선생': 1, '님과 함께': 1}\n"
     ]
    }
   ],
   "source": [
    "# 단어묶음 리스트를 한 개의 리스트로 합치기\n",
    "bow = bow1 + bow2 + bow3\n",
    "print(len(bow), bow, '\\n')\n",
    "\n",
    "# 중복제거후 새로운 단어리스트를 생성\n",
    "word_dics = []\n",
    "for token in bow:\n",
    "    if token not in word_dics:\n",
    "        word_dics.append(token)\n",
    "print(len(word_dics), word_dics)\n",
    "print(len(np.unique(word_dics)), np.unique(word_dics))\n",
    "print()\n",
    "\n",
    "# 문장별 단어문서행렬 생성\n",
    "freq_list1 = make_term_doc_mat(bow1, word_dics)\n",
    "freq_list2 = make_term_doc_mat(bow2, word_dics)\n",
    "freq_list3 = make_term_doc_mat(bow3, word_dics)\n",
    "print(freq_list1)\n",
    "print(freq_list2)\n",
    "print(freq_list3)"
   ]
  },
  {
   "cell_type": "code",
   "execution_count": 23,
   "id": "5a2abaa4-5f90-4685-8921-48d7ab278cde",
   "metadata": {},
   "outputs": [
    {
     "name": "stdout",
     "output_type": "stream",
     "text": [
      "[1 1 1 1 1 1 0 0 0 0]\n",
      "[1 1 1 1 0 1 1 0 0 0]\n",
      "[0 1 0 0 0 0 0 1 1 1]\n"
     ]
    }
   ],
   "source": [
    "# 각 문장별로 벡터를 생성해서 넘파이배열로 변환후 전달 -> 행렬연산을 하기 위해 변환\n",
    "doc1 = np.array(make_vector(freq_list1))\n",
    "doc2 = np.array(make_vector(freq_list2))\n",
    "doc3 = np.array(make_vector(freq_list3))\n",
    "print(doc1)\n",
    "print(doc2)\n",
    "print(doc3)"
   ]
  },
  {
   "cell_type": "code",
   "execution_count": 25,
   "id": "1a32eaee-510c-4322-b231-113d7e9a9104",
   "metadata": {},
   "outputs": [
    {
     "name": "stdout",
     "output_type": "stream",
     "text": [
      "a와 b문장의 유사도 = 0.833\n",
      "a와 c문장의 유사도 = 0.204\n"
     ]
    }
   ],
   "source": [
    "# 코사인유사도 계산\n",
    "r1 = cos_sim(doc1, doc2)\n",
    "r2 = cos_sim(doc1, doc3)\n",
    "print(f'a와 b문장의 유사도 = {r1:.3f}')\n",
    "print(f'a와 c문장의 유사도 = {r2:.3f}')\n",
    "\n",
    "# 결과분석\n",
    "# n-gram(64%)보다 코사인유사도(83%)방식의 정확도가 높다."
   ]
  },
  {
   "cell_type": "code",
   "execution_count": null,
   "id": "4e766ede-4c4a-44dc-bccc-cd8ce844b1ec",
   "metadata": {},
   "outputs": [],
   "source": []
  }
 ],
 "metadata": {
  "kernelspec": {
   "display_name": "Python 3 (ipykernel)",
   "language": "python",
   "name": "python3"
  },
  "language_info": {
   "codemirror_mode": {
    "name": "ipython",
    "version": 3
   },
   "file_extension": ".py",
   "mimetype": "text/x-python",
   "name": "python",
   "nbconvert_exporter": "python",
   "pygments_lexer": "ipython3",
   "version": "3.11.7"
  }
 },
 "nbformat": 4,
 "nbformat_minor": 5
}
