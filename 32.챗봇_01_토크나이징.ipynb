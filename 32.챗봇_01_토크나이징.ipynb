{
 "cells": [
  {
   "cell_type": "markdown",
   "id": "0b024b1b-083d-4c74-bebc-261bf88449b3",
   "metadata": {},
   "source": [
    "# 1. 토크나이징\n",
    "\n",
    "## 1.1 토크나이징이란?\n",
    "* 컴퓨터분야에서 자연어의 의미를 분석해서 처리할 수 있도록 하는 것이 `자연어처리 NLP(Natural Language Processing)`이라 한다.\n",
    "* 자연어처리를 하는 가장 일반적인 방법은?\n",
    "  1. 주어진 문장을 일정한 의미가 있는 `가장 단어로 분리`\n",
    "  2. 그 다음에 분리된 단어를 이용해서 `의미를 분석`한다.\n",
    "  3. 여기서 가장 기본이 되는 단어를 `토큰 token`이라고 한다.\n",
    "  4. 토큰단위는 토크나이징하는 방법에 따라 달라질 수가 있다.\n",
    "  5. 하지만, 일반적으로 일정한 의미가 있는 가장 작은 단위로 결정된다.\n",
    "* 이렇게 주어진 `문장에서 토큰 단위오 정보를 분리하는 작업을 토크나이징`이라고 한다.\n",
    "* 토크나이징을 구현하기 위해서는 한국어문법에 대한 이해가 필요하다.\n",
    "* 하지만, 한국어 토크나이징을 지원하는 파이썬 라이브러리가 있다.\n",
    "* 한국어 자연어처리에 가장 많이 사용되는 라이브러기가 `KoNLPy 코엔엘파이`가 있다.\n",
    "\n",
    "## 1.2 KoNLPy\n",
    "\n",
    "* KoNLPy는 오픈소스 GPL v3(or 그 이상)에 따라 자유롭게 코드를 사용할 수 있다.\n",
    "* 한국어 문장을 분석하려면 토크나이징작업을 제일 먼저 수행해야 한다.\n",
    "* 이때 토큰단위를 어떻게 정의하느냐에 따라 자연어처리 성능이 좌우가 된다.\n",
    "* 한국어처리는 `형태소(morpheme)를 토큰단위로 사용`한다.\n",
    "* 형태소란 언어학에서 사용되는 용어로서 `일정한 의미가 있는 가장 작은 말의 단위`를 말한다.\n",
    "* 즉, 더이상 쪼개지지 않는 단어를 뜻한다.\n",
    "* 형태소를 토큰단위로 사용할 경우 단어와 품사를 같이 활용할 수 있기 때문에 효과적이다.\n",
    "* 영어와는 달리 한국어는 명사와 조사를 띄어쓰지 않고 용언에 따라 여러가지 어미가 붙기 때문에\n",
    "* 영어처럼 띄어씌가로만으로는 토크나이징을 할 수가 없다.\n",
    "* 한국어의 복잡한 특성때문에 형태소를 분석할 수 있는 분석도구가 필요하다.\n",
    "* 형태소분석시는 형태소의 의미를 고려해서 품사를 태깅한다.\n",
    "* 형태소분석기\n",
    "  1. 꼬꼬마(Kkma)\n",
    "  2. 코모란(Komoran)\n",
    "  3. Okt(Open-source Korean Text processor)\n",
    "* 한국어의 9품사\n",
    "  1. 명사\n",
    "  2. 대명사\n",
    "  3. 수사\n",
    "  4. 동사\n",
    "  5. 형용사\n",
    "  6. 관형사\n",
    "  7. 부사\n",
    "  8. 조사\n",
    "  9. 감탄사"
   ]
  },
  {
   "cell_type": "code",
   "execution_count": 2,
   "id": "6ba4c3e3-e003-4dc5-924e-5f79ed3a0e62",
   "metadata": {},
   "outputs": [
    {
     "name": "stdout",
     "output_type": "stream",
     "text": [
      "Defaulting to user installation because normal site-packages is not writeable\n",
      "Requirement already satisfied: konlpy in c:\\users\\ezen\\appdata\\roaming\\python\\python311\\site-packages (0.6.0)\n",
      "Requirement already satisfied: JPype1>=0.7.0 in c:\\users\\ezen\\appdata\\roaming\\python\\python311\\site-packages (from konlpy) (1.5.0)\n",
      "Requirement already satisfied: lxml>=4.1.0 in c:\\anaconda3\\lib\\site-packages (from konlpy) (4.9.3)\n",
      "Requirement already satisfied: numpy>=1.6 in c:\\anaconda3\\lib\\site-packages (from konlpy) (1.26.4)\n",
      "Requirement already satisfied: packaging in c:\\anaconda3\\lib\\site-packages (from JPype1>=0.7.0->konlpy) (23.1)\n",
      "Name: konlpy\n",
      "Version: 0.6.0\n",
      "Summary: Python package for Korean natural language processing.\n",
      "Home-page: http://konlpy.org\n",
      "Author: Team KoNLPy\n",
      "Author-email: konlpy@googlegroups.com\n",
      "License: GPL v3\n",
      "Location: C:\\Users\\EZEN\\AppData\\Roaming\\Python\\Python311\\site-packages\n",
      "Requires: JPype1, lxml, numpy\n",
      "Required-by: \n"
     ]
    }
   ],
   "source": [
    "!pip install konlpy\n",
    "!pip show konlpy"
   ]
  },
  {
   "cell_type": "markdown",
   "id": "db93bef2-bf58-4dd4-baae-9c895badb988",
   "metadata": {},
   "source": [
    "# 1.2.1 Kkma\n",
    "\n",
    "* Kkma는 서울대학교 IDS(Itelligent Data Systems)연구실에서 개발한 한국어 형대토 분석기\n",
    "* Kkma 모듈의 함수\n",
    "  1. morphs(phrase) : 전달된 문장을 형태소 단위로 토크나이징하는 함수, list로 전달\n",
    "  2. nouns(phrase)  : 전달된 문장에서 품사가 명사인 토큰만 추출\n",
    "  3. pos(phrase, flatten=True) : POS tagger라고 하며, 문장에서 형태소를 추출한 뒤\n",
    "     품사를 태깅한다. 형태소, 품사를 tuple로 묶어서 list로 리턴\n",
    "  4. sentences(phrase) : 전달된 문장을 여러개의 문장으로 분리해주는 함수, list로 리턴\n",
    "* Kkma 품사 : 56개의 품사태그를 지원\n",
    "  1. NNG : 일반명사\n",
    "  2. JKS : 주격조사\n",
    "  3. JKM : 부주격조사\n",
    "  4. VV  : 동사\n",
    "  5. EFN : 평서형 종결 어미\n",
    "  6. SF  : 마침표, 느낌표, 물음표\n",
    "* 참고사이트 : http://kkma.snu.ac.kr/documents/?doc=postag"
   ]
  },
  {
   "cell_type": "code",
   "execution_count": 14,
   "id": "e91e7fb9-a779-4bc8-b1da-c32fd7023441",
   "metadata": {},
   "outputs": [
    {
     "name": "stdout",
     "output_type": "stream",
     "text": [
      "['아버지', '가', '방', '에', '들어가', 'ㅂ니다', '.']\n",
      "[('아버지', 'NNG'), ('가', 'JKS'), ('방', 'NNG'), ('에', 'JKM'), ('들어가', 'VV'), ('ㅂ니다', 'EFN'), ('.', 'SF')]\n",
      "['아버지', '방']\n",
      "2 ['오늘 날씨는 어 때요?', '내일은 덥다 던데.']\n"
     ]
    }
   ],
   "source": [
    "from konlpy.tag import Kkma\n",
    "\n",
    "kkma = Kkma() # 형태소분석기 객체 생성\n",
    "# print(dir(kkma))\n",
    "\n",
    "text = '아버지가 방에 들어갑니다.'\n",
    "\n",
    "# 1) 문장에서 형태소를 추출\n",
    "morphs = kkma.morphs(text)\n",
    "print(morphs)\n",
    "\n",
    "# 2) 품사를 태그\n",
    "pos = kkma.pos(text)\n",
    "print(pos)\n",
    "\n",
    "# 3) 태깅된 형태소에서 명사만 추출\n",
    "nouns = kkma.nouns(text)\n",
    "print(nouns)\n",
    "\n",
    "# 4) 복합문장을 문장단위로 추출\n",
    "sentences = '오늘 날씨는 어때요? 내일은 덥다던데.'\n",
    "s = kkma.sentences(sentences)\n",
    "print(len(s), s)"
   ]
  },
  {
   "cell_type": "markdown",
   "id": "31dbbc6a-958d-41cb-8faf-6fa417105f75",
   "metadata": {},
   "source": [
    "### 1.2.2 Komoran\n",
    "\n",
    "* Komoran(Korean Morphological ANalyzer)은 Shineware에서 자바로 개발한 한국어 형태소 분석기\n",
    "* Komoran모듈의 함수\n",
    "  1. morphs(phrase) : 전달된 문장을 형태소 단위로 토크나이징하는 함수, list로 전달\n",
    "  2. nouns(phrase)  : 전달된 문장에서 품사가 명사인 토큰만 추출\n",
    "  3. pos(phrase, flatten=True) : POS tagger라고 하며, 문장에서 형태소를 추출한 뒤\n",
    "     품사를 태깅한다. 형태소, 품사를 tuple로 묶어서 list로 리턴\n",
    "* Komoran 품사 : 42개의 품사태그를 지원\n",
    "  1. NNG : 일반명사\n",
    "  2. JKS : 주격조사\n",
    "  3. JKM : 부주격조사\n",
    "  4. VV  : 동사\n",
    "  5. EFN : 평서형 종결 어미\n",
    "  6. SF  : 마침표, 느낌표, 물음표\n",
    "* 참고사이트 : http://docs.komoran.kr/firststep/postypes.html"
   ]
  },
  {
   "cell_type": "code",
   "execution_count": 19,
   "id": "b280a252-a6cc-44b0-ae7d-7f4f30bacc3f",
   "metadata": {},
   "outputs": [
    {
     "name": "stdout",
     "output_type": "stream",
     "text": [
      "['아버지', '가', '가방', '에', '들어가', 'ㅂ니다', '.']\n",
      "[('아버지', 'NNG'), ('가', 'JKS'), ('가방', 'NNG'), ('에', 'JKB'), ('들어가', 'VV'), ('ㅂ니다', 'EF'), ('.', 'SF')]\n",
      "['아버지', '가방']\n"
     ]
    }
   ],
   "source": [
    "from konlpy.tag import Komoran\n",
    "\n",
    "komoran = Komoran()\n",
    "\n",
    "text = '아버지가 가방에 들어갑니다.'\n",
    "\n",
    "# 1) 형태소추출\n",
    "morphs = komoran.morphs(text)\n",
    "print(morphs)\n",
    "\n",
    "# 2) 품사태깅\n",
    "pos = komoran.pos(text)\n",
    "print(pos)\n",
    "\n",
    "# 3) 명사만 추출\n",
    "nouns = komoran.nouns(text)\n",
    "print(nouns)"
   ]
  },
  {
   "cell_type": "markdown",
   "id": "51e84aac-1422-49eb-bd98-6bb5e1c6df45",
   "metadata": {},
   "source": [
    "### 1.2.3 Okt\n",
    "* Okt는 twitter에서 개발한 Twitter한국어처리기에서 파생된 오픈소스 한국어 처리기\n",
    "* 간단한 한국어 처리를 통해 색인어를 추출하는 것을 목표로 하기 때문에 완전한 수준의 형태소 분석을 지원하지 않는다.\n",
    "* Okt는 다른 형태소분석기보다 분석되는 품사가 적지만 상대적으로 분석속도는 제일 빠르다.\n",
    "* 또한, normalize()함수를 지원해서 오타가 섞인 문장을 정규화해서 처리하는데 효과적이다.\n",
    "* Okt모듈의 함수\n",
    "  1. morphs(phrase) : 전달된 문장을 형태소 단위로 토크나이징하는 함수, list로 전달\n",
    "  2. nouns(phrase)  : 전달된 문장에서 품사가 명사인 토큰만 추출\n",
    "  3. pos(phrase, stem=False, join=False) : POS tagger라고 하며, 문장에서 형태소를 추출한 뒤\n",
    "     품사를 태깅한다. 형태소, 품사를 tuple로 묶어서 list로 리턴\n",
    "  4. normalize(phrase): 입력한 문장을 정규화시킨다. 사랑햌ㅋㅋ -> 사랑해ㅋㅋㅋ\n",
    "  5. phrases(phrase) : 전달된 문장에서 어구를 추출.\n",
    "     오늘 날씨가 좋아요 -> 오늘, 오늘 날씨, 날씨\n",
    "* Okt모듈의 품사\n",
    "  1. Noun : 명사\n",
    "  2. Verb : 동상\n",
    "  3. Adjective : 형용사\n",
    "  4. Josa : 조사\n",
    "  5. Punctuation : 구두점\n",
    "* 참고사이트 : https://github.com/twitter/twitter-korean-text"
   ]
  },
  {
   "cell_type": "code",
   "execution_count": 23,
   "id": "9db794e8-ee78-4784-ad3f-aecf17864257",
   "metadata": {},
   "outputs": [
    {
     "name": "stdout",
     "output_type": "stream",
     "text": [
      "['아버지', '가', '가방', '에', '들어갑니다', '.']\n",
      "[('아버지', 'Noun'), ('가', 'Josa'), ('가방', 'Noun'), ('에', 'Josa'), ('들어갑니다', 'Verb'), ('.', 'Punctuation')]\n",
      "['아버지', '가방']\n",
      "오늘 날씨가 좋아요ㅋㅋ\n",
      "['오늘', '오늘 날씨', '좋아욬', '날씨']\n"
     ]
    }
   ],
   "source": [
    "from konlpy.tag import Okt\n",
    "\n",
    "okt = Okt()\n",
    "\n",
    "text = '아버지가 가방에 들어갑니다.'\n",
    "\n",
    "morphs = okt.morphs(text)\n",
    "print(morphs)\n",
    "\n",
    "pos = okt.pos(text)\n",
    "print(pos)\n",
    "\n",
    "nouns = okt.nouns(text)\n",
    "print(nouns)\n",
    "\n",
    "text = '오늘 날씨가 좋아욬ㅋㅋ'\n",
    "print(okt.normalize(text))\n",
    "print(okt.phrases(text))"
   ]
  },
  {
   "cell_type": "markdown",
   "id": "c2a08e05-53d8-4416-bad2-6c23eccc2285",
   "metadata": {},
   "source": [
    "### 1.2.4 사용자사전구축\n",
    "\n",
    "* 챗봇데이터의 입력데이터는 인터넷의 구어체와 관련이 많다.\n",
    "* 일반적으로 인터넷상에서는 구어체만 문어체를 사용하지 않는다.\n",
    "* 따라서, 새롭게 생겨나는 단어나 문장들은 형태소분석기가 인식하지 못하는 경우가 많다.\n",
    "* 이런 경우는 새로운형태의 단언나 문장을 인식하는데 성능저하의 원인이 된다.\n",
    "* 이문제를 해결하기 위해서 대부분의 형태소분석기는 사용자사전을 추가할 수 있도록 한다."
   ]
  },
  {
   "cell_type": "code",
   "execution_count": 24,
   "id": "ae7c843d-bfa1-46fd-91c0-42aa66f968f0",
   "metadata": {},
   "outputs": [
    {
     "name": "stdout",
     "output_type": "stream",
     "text": [
      "[('우리', 'NP'), ('챗봇은', 'NA'), ('엔', 'NNB'), ('엘', 'NNP'), ('피', 'NNG'), ('를', 'JKO'), ('좋아하', 'VV'), ('아', 'EF'), ('.', 'SF')]\n"
     ]
    }
   ],
   "source": [
    "from konlpy.tag import Komoran\n",
    "komoran = Komoran()\n",
    "\n",
    "# 엔엘피는 새로운 단어\n",
    "text = '우리 챗봇은 엔엘피를 좋아해.'\n",
    "pos = komoran.pos(text)\n",
    "print(pos)\n",
    "\n",
    "# 품사태깅결과\n",
    "# 엔엘피라는 단어를 인식하지 못해서 엔, 엘, 피를 각각 명사로 인식\n",
    "# 이를 해결하려면 Komoran에 사용자 사전에 `엔엘피`라는 신규 단어를 등록해야 한다."
   ]
  },
  {
   "cell_type": "markdown",
   "id": "6a43ee2d-f2c7-49bf-b016-2f50038a5e83",
   "metadata": {},
   "source": [
    "* Komoran은 문장내에 사전에 포함된 단어가 나오면 우선적으로 사정에 정의된 품사를 태깅한다.\n",
    "* 사용자사전을 추가할 경우 `단어와 품사를 tab으로 구분`해주어야 하고 단어에는 띄어쓰기도 가능하다.\n",
    "* 만약, 품사를 생략할 경우에는 해당 단어는 고유명사(NNP)로 인식, 주석처리는 #으로 처리\n",
    "* user_dic.tsv\n",
    "  1. chatbot 폴더생성\n",
    "  2. 생성된 폴더에 user_dic.tsv를 아래와 같이 생성\n",
    "     ```csv\n",
    "     # [단어]  Tab [품사]\r",
    "     \n",
    "엔엘피\tNNG     \r\n",
    "나는 내일, 어제의 너와 만난다\tNN     G\r\n",
    "시샵\n",
    "        "
   ]
  },
  {
   "cell_type": "code",
   "execution_count": 26,
   "id": "40b5442d-62f8-47fd-97cc-ecc4f8430ad0",
   "metadata": {},
   "outputs": [
    {
     "name": "stdout",
     "output_type": "stream",
     "text": [
      "[('우리', 'NP'), ('챗봇은', 'NA'), ('엔엘피', 'NNG'), ('를', 'JKO'), ('좋아하', 'VV'), ('아', 'EF'), ('.', 'SF')]\n"
     ]
    }
   ],
   "source": [
    "from konlpy.tag import Komoran\n",
    "\n",
    "komoran = Komoran(userdic='./chatbot/user_dic.tsv')\n",
    "text = '우리 챗봇은 엔엘피를 좋아해.'\n",
    "pos = komoran.pos(text)\n",
    "print(pos)"
   ]
  },
  {
   "cell_type": "markdown",
   "id": "23b5fb18-e3b1-4c3b-9814-734533e5ff99",
   "metadata": {},
   "source": [
    "#### KoNLPy 형태소분석기 비교\n",
    "|형태소분석기|장점|단점|\n",
    "|:----:|:-----------|:----------|\n",
    "|Kkam|분석품질이 좋다|분석속도가 느리다|\n",
    "||지원하는 품사태그가 가장 많음|사용자사전으로 추가한 복합명사에 대해 불완전하게 동작한다.|\n",
    "|Komoran|자소가 분리된 문장이나 오탈자에 강함|적당한 분석품질과 속도|\n",
    "||사용자사전 관리가 용이||\n",
    "|Okt|매우 빠른 분석 속도|사용자 사전관리가 어려움|\n",
    "||정규화기능을 지원|용언분석에 일관성이 부족함|"
   ]
  }
 ],
 "metadata": {
  "kernelspec": {
   "display_name": "Python 3 (ipykernel)",
   "language": "python",
   "name": "python3"
  },
  "language_info": {
   "codemirror_mode": {
    "name": "ipython",
    "version": 3
   },
   "file_extension": ".py",
   "mimetype": "text/x-python",
   "name": "python",
   "nbconvert_exporter": "python",
   "pygments_lexer": "ipython3",
   "version": "3.11.7"
  }
 },
 "nbformat": 4,
 "nbformat_minor": 5
}
