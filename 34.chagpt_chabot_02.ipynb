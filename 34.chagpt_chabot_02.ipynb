{
 "cells": [
  {
   "cell_type": "markdown",
   "id": "cf527020-d296-47f6-ac7a-716a7141e283",
   "metadata": {},
   "source": [
    "!pip uninstall openai\n",
    "!pip install openai\n",
    "!pip show openai"
   ]
  },
  {
   "cell_type": "code",
   "execution_count": 1,
   "id": "2674b770-91b8-480c-8c33-12e4620870c4",
   "metadata": {},
   "outputs": [
    {
     "name": "stdout",
     "output_type": "stream",
     "text": [
      "Writing .\\chatgpt\\chatgpt_api_test.py\n"
     ]
    }
   ],
   "source": [
    "%%writefile .\\chatgpt\\chatgpt_api_test.py\n",
    "from pprint import pprint\n",
    "import os\n",
    "from openai import OpenAI\n",
    "\n",
    "api_key = 'your api key'\n",
    "client = OpenAI(api_key=api_key)\n",
    "\n",
    "# gpt-3.5-turbo-0125\t$0.50 / 1M tokens\t$1.50 / 1M tokens\n",
    "# gpt-3.5-turbo-1106\t$1.00 / 1M tokens\t$2.00 / 1M tokens\n",
    "model = \"gpt-3.5-turbo-0125\"  \n",
    "\n",
    "messages = [\n",
    "    {\"role\": \"system\", \"content\": \"You are a helpful assistant\"},\n",
    "    {\"role\": \"user\", \"content\": \"Who won the world series in 2020?\"}\n",
    "]\n",
    "\n",
    "response = client.chat.completions.create(model=model, messages=messages).model_dump()\n",
    "\n",
    "pprint(response)"
   ]
  },
  {
   "cell_type": "code",
   "execution_count": 5,
   "id": "db272725-5eba-4926-a37f-070772075a30",
   "metadata": {},
   "outputs": [
    {
     "name": "stdout",
     "output_type": "stream",
     "text": [
      "Writing .\\chatgpt\\chatgpt_Standard_test.py\n"
     ]
    }
   ],
   "source": [
    "%%writefile .\\chatgpt\\chatgpt_Standard_test.py\n",
    "# Standard input-output ##############\n",
    "template = \"\"\"\n",
    "Q: 서버실에는 컴퓨터가 9대 있었습니다. 월요일부터 목요일까지 매일 5대의 컴퓨터가 추가로 설치되었고 \n",
    "어제 한 대를 반출했습니다. 이제 서버실에는 몇 대의 컴퓨터가 있을까요?\n",
    "A: \n",
    "\"\"\"\n",
    "context = [{\"role\": \"user\", \"content\": template}]\n",
    "response = client.chat.completions.create(\n",
    "    model=\"gpt-3.5-turbo-0125\", \n",
    "    messages=context,\n",
    "    temperature=0,\n",
    "    top_p=0).model_dump()\n",
    "pprint(response['choices'][0]['message']['content'])"
   ]
  },
  {
   "cell_type": "code",
   "execution_count": null,
   "id": "001fb023-80ef-41fa-b340-a0dea5fa282f",
   "metadata": {},
   "outputs": [],
   "source": [
    "%%writefile .\\chatgpt\\chatgpt_CoT_test.py\n",
    "# CoT기법 : 구글리서치팀(Chain-of_Thought Prompting Elicits Reasoning in LLMs)\n",
    "# 생각의 연쇄 프롬프트를 통한 거대 언어 모델의 추론 유도)\n",
    "template = \"\"\"\n",
    "Q: 카페테리아에 사과가 23개 있었습니다. 점심 식사로 20개를 사용하고 6개를 더 사서 2개를 나눠주었다면 \n",
    "사과가 몇 개가 남았나요?\n",
    "A: 사과가 23개 있었고, 점심 식사로 20개를 사용하였으므로 23 - 20 = 3개가 남았습니다. 그리고 6개를 \n",
    "더 사서 3 + 6 = 9개가 되었습니다. 2개를 나눠주었으므로 9 - 2 = 7개가 남았습니다.\n",
    "따라서 사과가 7개가 남았습니다.\n",
    "   \n",
    "Q: 주차장에 차가 3대 있고, 2대의 차가 더 들어왔습니다. 이제 주차장에는 몇 대의 차가 있나요?\n",
    "A: 주차장에 이미 차가 3대 있습니다. 2대가 더 들어왔습니다. 이제는 3 + 2 = 5대의 차가 있습니다. \n",
    "답은 5입니다. \n",
    "   \n",
    "Q: 서버실에는 컴퓨터가 9대 있었습니다. 월요일부터 목요일까지 매일 5대의 컴퓨터가 추가로 설치되었고 \n",
    "어제 한 대를 반출했습니다. 이제 서버실에는 몇 대의 컴퓨터가 있을까요?\n",
    "A:\n",
    "\"\"\"\n",
    "context = [{\"role\": \"user\", \"content\": template}]\n",
    "response = client.chat.completions.create(\n",
    "    model=\"gpt-3.5-turbo-0125\", \n",
    "    messages=context,\n",
    "    temperature=0,\n",
    "    top_p=0).model_dump()\n",
    "\n",
    "pprint(response['choices'][0]['message']['content'])"
   ]
  },
  {
   "cell_type": "markdown",
   "id": "7c56eeb8-59ff-4807-af9c-d07e6c29de1b",
   "metadata": {},
   "source": [
    "### 실습. chatbot에서 질의를 html.input태그로 전달하고 그 결과를 html.div등으로 출력\n",
    "질의 : 오늘 탕수육 주문할게요\n",
    "답변 : 주문감사합니다. 주문이 완료되었습니다!"
   ]
  },
  {
   "cell_type": "code",
   "execution_count": null,
   "id": "d1122199-832a-46b5-b104-a74c2d463dba",
   "metadata": {},
   "outputs": [],
   "source": []
  },
  {
   "cell_type": "code",
   "execution_count": null,
   "id": "0abbaaee-be2c-4e40-b933-dd3e093646eb",
   "metadata": {},
   "outputs": [],
   "source": []
  },
  {
   "cell_type": "code",
   "execution_count": null,
   "id": "637772dd-2fb4-45bb-8b7d-774583b3be6d",
   "metadata": {},
   "outputs": [],
   "source": []
  },
  {
   "cell_type": "code",
   "execution_count": null,
   "id": "addf7750-eaa9-4bc6-ade0-97ef65dae95a",
   "metadata": {},
   "outputs": [],
   "source": []
  },
  {
   "cell_type": "code",
   "execution_count": null,
   "id": "0b6ce9b3-a366-4552-a475-d2b2307163cf",
   "metadata": {},
   "outputs": [],
   "source": []
  },
  {
   "cell_type": "code",
   "execution_count": null,
   "id": "d99cda67-7380-482d-a870-bec2632a63c8",
   "metadata": {},
   "outputs": [],
   "source": []
  },
  {
   "cell_type": "code",
   "execution_count": null,
   "id": "e4dce033-67df-43f3-8995-4bf0f882ea7c",
   "metadata": {},
   "outputs": [],
   "source": []
  }
 ],
 "metadata": {
  "kernelspec": {
   "display_name": "Python 3 (ipykernel)",
   "language": "python",
   "name": "python3"
  },
  "language_info": {
   "codemirror_mode": {
    "name": "ipython",
    "version": 3
   },
   "file_extension": ".py",
   "mimetype": "text/x-python",
   "name": "python",
   "nbconvert_exporter": "python",
   "pygments_lexer": "ipython3",
   "version": "3.11.7"
  }
 },
 "nbformat": 4,
 "nbformat_minor": 5
}
