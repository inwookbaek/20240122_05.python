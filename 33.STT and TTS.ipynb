{
 "cells": [
  {
   "cell_type": "markdown",
   "id": "599f132c-e58b-4737-ac2b-6b660bd5ae18",
   "metadata": {},
   "source": [
    "# 1. STT(Speech To Text)\n",
    "\n",
    "* pip install SpeechRecognition\n",
    "* pip install pyaudio\n",
    "  \n",
    "# 2. TTS(Text to Speech)\n",
    "\n",
    "* pip install gtts\n",
    "* pip install playsound==1.2.2"
   ]
  },
  {
   "cell_type": "code",
   "execution_count": null,
   "id": "b109e9d5-28d6-4ca2-91e3-23c908d16d25",
   "metadata": {},
   "outputs": [],
   "source": [
    "!pip install SpeechRecognition\n",
    "!pip show SpeechRecognition"
   ]
  },
  {
   "cell_type": "code",
   "execution_count": null,
   "id": "06aebecd-2b2e-4e1e-97c2-f7c9e3f58a2a",
   "metadata": {},
   "outputs": [],
   "source": [
    "!pip install pyaudio\n",
    "!pip show pyaudio"
   ]
  },
  {
   "cell_type": "code",
   "execution_count": null,
   "id": "ba98c186-541e-47cc-99ab-e5f1bea03a0b",
   "metadata": {},
   "outputs": [],
   "source": [
    "!pip install gtts\n",
    "!pip show gtts"
   ]
  },
  {
   "cell_type": "code",
   "execution_count": null,
   "id": "fec5bc49-e8ab-49ab-89df-689cbaaa706f",
   "metadata": {},
   "outputs": [],
   "source": [
    "!pip install playsound==1.2.2\n",
    "!pip show playsound"
   ]
  },
  {
   "cell_type": "code",
   "execution_count": null,
   "id": "b1e3f5fb-643d-4cb0-9d2b-f730cb70feef",
   "metadata": {},
   "outputs": [],
   "source": [
    "!mkdir .\\stt_tts"
   ]
  },
  {
   "cell_type": "code",
   "execution_count": null,
   "id": "145f90f4-a640-4ac8-ad92-a6c24c562e2f",
   "metadata": {},
   "outputs": [],
   "source": [
    "%%writefile .\\stt_tts\\stt_test.py\n",
    "import speech_recognition as sr\n",
    "from playsound import playsound\n",
    "import os\n",
    "\n",
    "# 1. 마이크객체\n",
    "r = sr.Recognizer()\n",
    "with sr.Microphone() as source:\n",
    "    print(\"아무말이나 해 보삼!!\")\n",
    "    audio = r.listen(source)\n",
    "\n",
    "# 2. mp3 파일을 저장\n",
    "filename = './stt_tts/stt_result.mp3'\n",
    "with open(filename, 'wb') as f:\n",
    "    f.write(audio.get_wav_data())\n",
    "\n",
    "playsound(filename)\n",
    "os.remove(filename)"
   ]
  },
  {
   "cell_type": "code",
   "execution_count": null,
   "id": "3863c3ad-4512-44f2-bc8c-ce2287efaec9",
   "metadata": {},
   "outputs": [],
   "source": [
    "!pip install pydub"
   ]
  },
  {
   "cell_type": "code",
   "execution_count": null,
   "id": "d1531584-a658-4ae7-b64c-7537a87c5bda",
   "metadata": {
    "scrolled": true
   },
   "outputs": [],
   "source": [
    "# %%writefile .\\stt_tts\\stt_test_1.py\n",
    "import speech_recognition as sr\n",
    "from pydub import AudioSegment\n",
    "from playsound import playsound\n",
    "import os\n",
    "\n",
    "# 1. 마이크객체\n",
    "r = sr.Recognizer()\n",
    "with sr.Microphone() as source:\n",
    "    print(\"아무말이나 해 보삼!!\")\n",
    "    audio = r.listen(source)\n",
    "\n",
    "# 2. WAV 파일로 저장\n",
    "filename_wav = './stt_result.wav'\n",
    "with open(filename_wav, 'wb') as f:\n",
    "    f.write(audio.get_wav_data())\n",
    "\n",
    "# 3. WAV 파일을 MP3로 변환\n",
    "filename_mp3 = './stt_result.mp3'\n",
    "sound = AudioSegment.from_wav(filename_wav)\n",
    "sound.export(filename_mp3, format=\"mp3\")\n",
    "\n",
    "# 4. MP3 파일 재생\n",
    "playsound(filename_mp3)\n",
    "\n",
    "# 5. 파일 삭제\n",
    "os.remove(filename_wav)\n",
    "os.remove(filename_mp3)"
   ]
  },
  {
   "cell_type": "code",
   "execution_count": null,
   "id": "5b72a830-f46f-48e3-ad58-e0a0b9bd0717",
   "metadata": {},
   "outputs": [],
   "source": [
    "# %%writefile .\\stt_tts\\tts_test.py\n",
    "from gtts import gTTS\n",
    "from playsound import playsound\n",
    "import os\n",
    "\n",
    "audio = './speech.mp3' # wav파일은 utf8 디코딩에러발생\n",
    "language = 'ko'\n",
    "\n",
    "text = input('아무말이나 입력하세요! ==> ')\n",
    "\n",
    "sp = gTTS(\n",
    "    lang=language,\n",
    "    text=text,\n",
    "    slow=False)\n",
    "\n",
    "sp.save(audio)\n",
    "playsound(audio)\n",
    "os.remove(audio)"
   ]
  }
 ],
 "metadata": {
  "kernelspec": {
   "display_name": "Python 3 (ipykernel)",
   "language": "python",
   "name": "python3"
  },
  "language_info": {
   "codemirror_mode": {
    "name": "ipython",
    "version": 3
   },
   "file_extension": ".py",
   "mimetype": "text/x-python",
   "name": "python",
   "nbconvert_exporter": "python",
   "pygments_lexer": "ipython3",
   "version": "3.11.7"
  }
 },
 "nbformat": 4,
 "nbformat_minor": 5
}
