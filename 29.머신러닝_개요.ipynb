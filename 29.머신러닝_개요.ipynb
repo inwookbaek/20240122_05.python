{
 "cells": [
  {
   "cell_type": "markdown",
   "id": "b67efcdf-ed7a-4cb6-9240-8d9d73e68cb4",
   "metadata": {},
   "source": [
    "### 머신러닝\n",
    "* scikit-learn : numpy + scipy, 과학\n",
    "* statsmodels  : 통계\n",
    "* mglearn      : 머신러닝을 학습으로 위한 패키지"
   ]
  },
  {
   "cell_type": "code",
   "execution_count": 1,
   "id": "bdd266e9-672a-4286-b87b-fd30e6abc03f",
   "metadata": {},
   "outputs": [
    {
     "name": "stdout",
     "output_type": "stream",
     "text": [
      "Name: scikit-learn\n",
      "Version: 1.2.2\n",
      "Summary: A set of python modules for machine learning and data mining\n",
      "Home-page: http://scikit-learn.org\n",
      "Author: \n",
      "Author-email: \n",
      "License: new BSD\n",
      "Location: C:\\Anaconda3\\Lib\\site-packages\n",
      "Requires: joblib, numpy, scipy, threadpoolctl\n",
      "Required-by: imbalanced-learn\n",
      "Name: statsmodels\n",
      "Version: 0.14.0\n",
      "Summary: Statistical computations and models for Python\n",
      "Home-page: https://www.statsmodels.org/\n",
      "Author: \n",
      "Author-email: \n",
      "License: BSD License\n",
      "Location: C:\\Anaconda3\\Lib\\site-packages\n",
      "Requires: numpy, packaging, pandas, patsy, scipy, scipy\n",
      "Required-by: plotnine\n"
     ]
    },
    {
     "name": "stderr",
     "output_type": "stream",
     "text": [
      "WARNING: Package(s) not found: mglearn\n"
     ]
    }
   ],
   "source": [
    "!pip show scikit-learn\n",
    "!pip show statsmodels\n",
    "!pip show mglearn"
   ]
  },
  {
   "cell_type": "code",
   "execution_count": 3,
   "id": "765a16de-58af-4b66-8741-8656998496c3",
   "metadata": {},
   "outputs": [
    {
     "name": "stdout",
     "output_type": "stream",
     "text": [
      "Defaulting to user installation because normal site-packages is not writeable\n",
      "Collecting mglearn\n",
      "  Downloading mglearn-0.2.0-py2.py3-none-any.whl.metadata (628 bytes)\n",
      "Requirement already satisfied: numpy in c:\\anaconda3\\lib\\site-packages (from mglearn) (1.26.4)\n",
      "Requirement already satisfied: matplotlib in c:\\anaconda3\\lib\\site-packages (from mglearn) (3.8.0)\n",
      "Requirement already satisfied: scikit-learn in c:\\anaconda3\\lib\\site-packages (from mglearn) (1.2.2)\n",
      "Requirement already satisfied: pandas in c:\\anaconda3\\lib\\site-packages (from mglearn) (2.1.4)\n",
      "Requirement already satisfied: pillow in c:\\anaconda3\\lib\\site-packages (from mglearn) (10.2.0)\n",
      "Requirement already satisfied: cycler in c:\\anaconda3\\lib\\site-packages (from mglearn) (0.11.0)\n",
      "Requirement already satisfied: imageio in c:\\anaconda3\\lib\\site-packages (from mglearn) (2.33.1)\n",
      "Requirement already satisfied: joblib in c:\\anaconda3\\lib\\site-packages (from mglearn) (1.2.0)\n",
      "Requirement already satisfied: contourpy>=1.0.1 in c:\\anaconda3\\lib\\site-packages (from matplotlib->mglearn) (1.2.0)\n",
      "Requirement already satisfied: fonttools>=4.22.0 in c:\\anaconda3\\lib\\site-packages (from matplotlib->mglearn) (4.25.0)\n",
      "Requirement already satisfied: kiwisolver>=1.0.1 in c:\\anaconda3\\lib\\site-packages (from matplotlib->mglearn) (1.4.4)\n",
      "Requirement already satisfied: packaging>=20.0 in c:\\anaconda3\\lib\\site-packages (from matplotlib->mglearn) (23.1)\n",
      "Requirement already satisfied: pyparsing>=2.3.1 in c:\\anaconda3\\lib\\site-packages (from matplotlib->mglearn) (3.0.9)\n",
      "Requirement already satisfied: python-dateutil>=2.7 in c:\\anaconda3\\lib\\site-packages (from matplotlib->mglearn) (2.8.2)\n",
      "Requirement already satisfied: pytz>=2020.1 in c:\\anaconda3\\lib\\site-packages (from pandas->mglearn) (2023.3.post1)\n",
      "Requirement already satisfied: tzdata>=2022.1 in c:\\anaconda3\\lib\\site-packages (from pandas->mglearn) (2023.3)\n",
      "Requirement already satisfied: scipy>=1.3.2 in c:\\anaconda3\\lib\\site-packages (from scikit-learn->mglearn) (1.11.4)\n",
      "Requirement already satisfied: threadpoolctl>=2.0.0 in c:\\anaconda3\\lib\\site-packages (from scikit-learn->mglearn) (2.2.0)\n",
      "Requirement already satisfied: six>=1.5 in c:\\anaconda3\\lib\\site-packages (from python-dateutil>=2.7->matplotlib->mglearn) (1.16.0)\n",
      "Downloading mglearn-0.2.0-py2.py3-none-any.whl (581 kB)\n",
      "   ---------------------------------------- 0.0/581.4 kB ? eta -:--:--\n",
      "   ---------------------------------------- 0.0/581.4 kB ? eta -:--:--\n",
      "    --------------------------------------- 10.2/581.4 kB ? eta -:--:--\n",
      "   -- ------------------------------------ 30.7/581.4 kB 262.6 kB/s eta 0:00:03\n",
      "   ---- ---------------------------------- 61.4/581.4 kB 365.7 kB/s eta 0:00:02\n",
      "   --------------------------- ------------ 399.4/581.4 kB 2.1 MB/s eta 0:00:01\n",
      "   ---------------------------------------- 581.4/581.4 kB 2.8 MB/s eta 0:00:00\n",
      "Installing collected packages: mglearn\n",
      "Successfully installed mglearn-0.2.0\n",
      "Name: mglearn\n",
      "Version: 0.2.0\n",
      "Summary: Helper functions for the book Introduction to machine learning with Python\n",
      "Home-page: https://github.com/amueller/introduction_to_ml_with_python\n",
      "Author: Andreas Mueller\n",
      "Author-email: t3kcit@gmail.com\n",
      "License: BSD\n",
      "Location: C:\\Users\\EZEN\\AppData\\Roaming\\Python\\Python311\\site-packages\n",
      "Requires: cycler, imageio, joblib, matplotlib, numpy, pandas, pillow, scikit-learn\n",
      "Required-by: \n"
     ]
    }
   ],
   "source": [
    "!pip install mglearn\n",
    "!pip show mglearn"
   ]
  },
  {
   "cell_type": "code",
   "execution_count": 4,
   "id": "aa7176cc-1931-49d8-a347-ab78058b56d6",
   "metadata": {},
   "outputs": [],
   "source": [
    "import warnings\n",
    "warnings.filterwarnings('ignore')\n",
    "\n",
    "%matplotlib inline\n",
    "import numpy as np\n",
    "import pandas as pd\n",
    "import matplotlib.pyplot as plt\n",
    "\n",
    "plt.rcParams['font.family'] = 'D2Coding'\n",
    "plt.rcParams['axes.unicode_minus'] = False"
   ]
  },
  {
   "cell_type": "markdown",
   "id": "2dd73b5c-12cb-4951-8210-a14a3ff4aa5a",
   "metadata": {},
   "source": [
    "#### 1. statsmodels"
   ]
  },
  {
   "cell_type": "code",
   "execution_count": 7,
   "id": "13256f0a-6ada-43c3-8089-644f6f2ee570",
   "metadata": {},
   "outputs": [
    {
     "name": "stdout",
     "output_type": "stream",
     "text": [
      ".. container::\n",
      "\n",
      "   ======= ===============\n",
      "   Titanic R Documentation\n",
      "   ======= ===============\n",
      "\n",
      "   .. rubric:: Survival of passengers on the Titanic\n",
      "      :name: Titanic\n",
      "\n",
      "   .. rubric:: Description\n",
      "      :name: description\n",
      "\n",
      "   This data set provides information on the fate of passengers on the\n",
      "   fatal maiden voyage of the ocean liner ‘Titanic’, summarized\n",
      "   according to economic status (class), sex, age and survival.\n",
      "\n",
      "   .. rubric:: Usage\n",
      "      :name: usage\n",
      "\n",
      "   .. code:: R\n",
      "\n",
      "      Titanic\n",
      "\n",
      "   .. rubric:: Format\n",
      "      :name: format\n",
      "\n",
      "   A 4-dimensional array resulting from cross-tabulating 2201\n",
      "   observations on 4 variables. The variables and their levels are as\n",
      "   follows:\n",
      "\n",
      "   == ======== ===================\n",
      "   No Name     Levels\n",
      "   1  Class    1st, 2nd, 3rd, Crew\n",
      "   2  Sex      Male, Female\n",
      "   3  Age      Child, Adult\n",
      "   4  Survived No, Yes\n",
      "   == ======== ===================\n",
      "\n",
      "   .. rubric:: Details\n",
      "      :name: details\n",
      "\n",
      "   The sinking of the Titanic is a famous event, and new books are still\n",
      "   being published about it. Many well-known facts—from the proportions\n",
      "   of first-class passengers to the ‘women and children first’ policy,\n",
      "   and the fact that that policy was not entirely successful in saving\n",
      "   the women and children in the third class—are reflected in the\n",
      "   survival rates for various classes of passenger.\n",
      "\n",
      "   These data were originally collected by the British Board of Trade in\n",
      "   their investigation of the sinking. Note that there is not complete\n",
      "   agreement among primary sources as to the exact numbers on board,\n",
      "   rescued, or lost.\n",
      "\n",
      "   Due in particular to the very successful film ‘Titanic’, the last\n",
      "   years saw a rise in public interest in the Titanic. Very detailed\n",
      "   data about the passengers is now available on the Internet, at sites\n",
      "   such as *Encyclopedia Titanica*\n",
      "   (https://www.encyclopedia-titanica.org/).\n",
      "\n",
      "   .. rubric:: Source\n",
      "      :name: source\n",
      "\n",
      "   Dawson, Robert J. MacG. (1995), The ‘Unusual Episode’ Data Revisited.\n",
      "   *Journal of Statistics Education*, **3**.\n",
      "   `doi:10.1080/10691898.1995.11910499 <https://doi.org/10.1080/10691898.1995.11910499>`__.\n",
      "\n",
      "   The source provides a data set recording class, sex, age, and\n",
      "   survival status for each person on board of the Titanic, and is based\n",
      "   on data originally collected by the British Board of Trade and\n",
      "   reprinted in:\n",
      "\n",
      "   British Board of Trade (1990), *Report on the Loss of the ‘Titanic’\n",
      "   (S.S.)*. British Board of Trade Inquiry Report (reprint). Gloucester,\n",
      "   UK: Allan Sutton Publishing.\n",
      "\n",
      "   .. rubric:: Examples\n",
      "      :name: examples\n",
      "\n",
      "   .. code:: R\n",
      "\n",
      "      require(graphics)\n",
      "      mosaicplot(Titanic, main = \"Survival on the Titanic\")\n",
      "      ## Higher survival rates in children?\n",
      "      apply(Titanic, c(3, 4), sum)\n",
      "      ## Higher survival rates in females?\n",
      "      apply(Titanic, c(2, 4), sum)\n",
      "      ## Use loglm() in package 'MASS' for further analysis ...\n",
      "\n",
      "<class 'statsmodels.datasets.utils.Dataset'> <class 'statsmodels.datasets.utils.Dataset'>\n"
     ]
    }
   ],
   "source": [
    "import statsmodels.api as sm\n",
    "\n",
    "# 1. Titanic 데이터셋\n",
    "data = sm.datasets.get_rdataset('Titanic', package='datasets')\n",
    "print(data.__doc__)\n",
    "print(type(data), data)"
   ]
  },
  {
   "cell_type": "code",
   "execution_count": 12,
   "id": "218f43e9-6e55-4eb0-b018-e59862f780d6",
   "metadata": {},
   "outputs": [
    {
     "name": "stdout",
     "output_type": "stream",
     "text": [
      "['__class__', '__class_getitem__', '__contains__', '__delattr__', '__delitem__', '__dict__', '__dir__', '__doc__', '__eq__', '__format__', '__ge__', '__getattribute__', '__getitem__', '__getstate__', '__gt__', '__hash__', '__init__', '__init_subclass__', '__ior__', '__iter__', '__le__', '__len__', '__lt__', '__module__', '__ne__', '__new__', '__or__', '__reduce__', '__reduce_ex__', '__repr__', '__reversed__', '__ror__', '__setattr__', '__setitem__', '__sizeof__', '__str__', '__subclasshook__', '__weakref__', 'clear', 'copy', 'data', 'from_cache', 'fromkeys', 'get', 'items', 'keys', 'package', 'pop', 'popitem', 'setdefault', 'title', 'update', 'values']\n",
      "<class 'pandas.core.frame.DataFrame'>\n"
     ]
    },
    {
     "data": {
      "text/html": [
       "<div>\n",
       "<style scoped>\n",
       "    .dataframe tbody tr th:only-of-type {\n",
       "        vertical-align: middle;\n",
       "    }\n",
       "\n",
       "    .dataframe tbody tr th {\n",
       "        vertical-align: top;\n",
       "    }\n",
       "\n",
       "    .dataframe thead th {\n",
       "        text-align: right;\n",
       "    }\n",
       "</style>\n",
       "<table border=\"1\" class=\"dataframe\">\n",
       "  <thead>\n",
       "    <tr style=\"text-align: right;\">\n",
       "      <th></th>\n",
       "      <th>Class</th>\n",
       "      <th>Sex</th>\n",
       "      <th>Age</th>\n",
       "      <th>Survived</th>\n",
       "      <th>Freq</th>\n",
       "    </tr>\n",
       "  </thead>\n",
       "  <tbody>\n",
       "    <tr>\n",
       "      <th>0</th>\n",
       "      <td>1st</td>\n",
       "      <td>Male</td>\n",
       "      <td>Child</td>\n",
       "      <td>No</td>\n",
       "      <td>0</td>\n",
       "    </tr>\n",
       "    <tr>\n",
       "      <th>1</th>\n",
       "      <td>2nd</td>\n",
       "      <td>Male</td>\n",
       "      <td>Child</td>\n",
       "      <td>No</td>\n",
       "      <td>0</td>\n",
       "    </tr>\n",
       "    <tr>\n",
       "      <th>2</th>\n",
       "      <td>3rd</td>\n",
       "      <td>Male</td>\n",
       "      <td>Child</td>\n",
       "      <td>No</td>\n",
       "      <td>35</td>\n",
       "    </tr>\n",
       "    <tr>\n",
       "      <th>3</th>\n",
       "      <td>Crew</td>\n",
       "      <td>Male</td>\n",
       "      <td>Child</td>\n",
       "      <td>No</td>\n",
       "      <td>0</td>\n",
       "    </tr>\n",
       "    <tr>\n",
       "      <th>4</th>\n",
       "      <td>1st</td>\n",
       "      <td>Female</td>\n",
       "      <td>Child</td>\n",
       "      <td>No</td>\n",
       "      <td>0</td>\n",
       "    </tr>\n",
       "  </tbody>\n",
       "</table>\n",
       "</div>"
      ],
      "text/plain": [
       "  Class     Sex    Age Survived  Freq\n",
       "0   1st    Male  Child       No     0\n",
       "1   2nd    Male  Child       No     0\n",
       "2   3rd    Male  Child       No    35\n",
       "3  Crew    Male  Child       No     0\n",
       "4   1st  Female  Child       No     0"
      ]
     },
     "execution_count": 12,
     "metadata": {},
     "output_type": "execute_result"
    }
   ],
   "source": [
    "print(dir(data))\n",
    "print(type(data.data))\n",
    "df = data.data\n",
    "df.head()"
   ]
  },
  {
   "cell_type": "code",
   "execution_count": 13,
   "id": "977b7e83-1452-4783-b055-3519398fa9cf",
   "metadata": {},
   "outputs": [
    {
     "name": "stdout",
     "output_type": "stream",
     "text": [
      ".. container::\n",
      "\n",
      "   ====== ===============\n",
      "   precip R Documentation\n",
      "   ====== ===============\n",
      "\n",
      "   .. rubric:: Annual Precipitation in US Cities\n",
      "      :name: precip\n",
      "\n",
      "   .. rubric:: Description\n",
      "      :name: description\n",
      "\n",
      "   The average amount of precipitation (rainfall) in inches for each of\n",
      "   70 United States (and Puerto Rico) cities.\n",
      "\n",
      "   .. rubric:: Usage\n",
      "      :name: usage\n",
      "\n",
      "   .. code:: R\n",
      "\n",
      "      precip\n",
      "\n",
      "   .. rubric:: Format\n",
      "      :name: format\n",
      "\n",
      "   A named vector of length 70.\n",
      "\n",
      "   .. rubric:: Note\n",
      "      :name: note\n",
      "\n",
      "   The dataset version up to Nov.16, 2016 had a typo in\n",
      "   ``\"Cincinnati\"``'s name. The examples show how to recreate that\n",
      "   version.\n",
      "\n",
      "   .. rubric:: Source\n",
      "      :name: source\n",
      "\n",
      "   Statistical Abstracts of the United States, 1975.\n",
      "\n",
      "   .. rubric:: References\n",
      "      :name: references\n",
      "\n",
      "   McNeil, D. R. (1977) *Interactive Data Analysis*. New York: Wiley.\n",
      "\n",
      "   .. rubric:: Examples\n",
      "      :name: examples\n",
      "\n",
      "   .. code:: R\n",
      "\n",
      "      require(graphics)\n",
      "      dotchart(precip[order(precip)], main = \"precip data\")\n",
      "      title(sub = \"Average annual precipitation (in.)\")\n",
      "\n",
      "      ## Old (\"wrong\") version of dataset (just name change):\n",
      "      precip.O <- local({\n",
      "         p <- precip; names(p)[names(p) == \"Cincinnati\"] <- \"Cincinati\" ; p })\n",
      "      stopifnot(all(precip == precip.O),\n",
      "            match(\"Cincinnati\", names(precip)) == 46,\n",
      "            identical(names(precip)[-46], names(precip.O)[-46]))\n",
      "\n"
     ]
    },
    {
     "data": {
      "text/html": [
       "<div>\n",
       "<style scoped>\n",
       "    .dataframe tbody tr th:only-of-type {\n",
       "        vertical-align: middle;\n",
       "    }\n",
       "\n",
       "    .dataframe tbody tr th {\n",
       "        vertical-align: top;\n",
       "    }\n",
       "\n",
       "    .dataframe thead th {\n",
       "        text-align: right;\n",
       "    }\n",
       "</style>\n",
       "<table border=\"1\" class=\"dataframe\">\n",
       "  <thead>\n",
       "    <tr style=\"text-align: right;\">\n",
       "      <th></th>\n",
       "      <th>dat</th>\n",
       "    </tr>\n",
       "  </thead>\n",
       "  <tbody>\n",
       "    <tr>\n",
       "      <th>65</th>\n",
       "      <td>17.4</td>\n",
       "    </tr>\n",
       "    <tr>\n",
       "      <th>66</th>\n",
       "      <td>40.8</td>\n",
       "    </tr>\n",
       "    <tr>\n",
       "      <th>67</th>\n",
       "      <td>29.1</td>\n",
       "    </tr>\n",
       "    <tr>\n",
       "      <th>68</th>\n",
       "      <td>14.6</td>\n",
       "    </tr>\n",
       "    <tr>\n",
       "      <th>69</th>\n",
       "      <td>59.2</td>\n",
       "    </tr>\n",
       "  </tbody>\n",
       "</table>\n",
       "</div>"
      ],
      "text/plain": [
       "     dat\n",
       "65  17.4\n",
       "66  40.8\n",
       "67  29.1\n",
       "68  14.6\n",
       "69  59.2"
      ]
     },
     "execution_count": 13,
     "metadata": {},
     "output_type": "execute_result"
    }
   ],
   "source": [
    "# 2. 미국강수량\n",
    "data = sm.datasets.get_rdataset('precip')\n",
    "print(data.__doc__)\n",
    "df = data.data\n",
    "df.tail()"
   ]
  },
  {
   "cell_type": "code",
   "execution_count": 21,
   "id": "5efca3e7-4447-41e3-956d-c7fecb847353",
   "metadata": {},
   "outputs": [
    {
     "name": "stdout",
     "output_type": "stream",
     "text": [
      ".. container::\n",
      "\n",
      "   ============= ===============\n",
      "   AirPassengers R Documentation\n",
      "   ============= ===============\n",
      "\n",
      "   .. rubric:: Monthly Airline Passenger Numbers 1949-1960\n",
      "      :name: AirPassengers\n",
      "\n",
      "   .. rubric:: Description\n",
      "      :name: description\n",
      "\n",
      "   The classic Box & Jenkins airline data. Monthly totals of\n",
      "   international airline passengers, 1949 to 1960.\n",
      "\n",
      "   .. rubric:: Usage\n",
      "      :name: usage\n",
      "\n",
      "   .. code:: R\n",
      "\n",
      "      AirPassengers\n",
      "\n",
      "   .. rubric:: Format\n",
      "      :name: format\n",
      "\n",
      "   A monthly time series, in thousands.\n",
      "\n",
      "   .. rubric:: Source\n",
      "      :name: source\n",
      "\n",
      "   Box, G. E. P., Jenkins, G. M. and Reinsel, G. C. (1976) *Time Series\n",
      "   Analysis, Forecasting and Control.* Third Edition. Holden-Day. Series\n",
      "   G.\n",
      "\n",
      "   .. rubric:: Examples\n",
      "      :name: examples\n",
      "\n",
      "   .. code:: R\n",
      "\n",
      "      ## Not run: \n",
      "      ## These are quite slow and so not run by example(AirPassengers)\n",
      "\n",
      "      ## The classic 'airline model', by full ML\n",
      "      (fit <- arima(log10(AirPassengers), c(0, 1, 1),\n",
      "                    seasonal = list(order = c(0, 1, 1), period = 12)))\n",
      "      update(fit, method = \"CSS\")\n",
      "      update(fit, x = window(log10(AirPassengers), start = 1954))\n",
      "      pred <- predict(fit, n.ahead = 24)\n",
      "      tl <- pred$pred - 1.96 * pred$se\n",
      "      tu <- pred$pred + 1.96 * pred$se\n",
      "      ts.plot(AirPassengers, 10^tl, 10^tu, log = \"y\", lty = c(1, 2, 2))\n",
      "\n",
      "      ## full ML fit is the same if the series is reversed, CSS fit is not\n",
      "      ap0 <- rev(log10(AirPassengers))\n",
      "      attributes(ap0) <- attributes(AirPassengers)\n",
      "      arima(ap0, c(0, 1, 1), seasonal = list(order = c(0, 1, 1), period = 12))\n",
      "      arima(ap0, c(0, 1, 1), seasonal = list(order = c(0, 1, 1), period = 12),\n",
      "            method = \"CSS\")\n",
      "\n",
      "      ## Structural Time Series\n",
      "      ap <- log10(AirPassengers) - 2\n",
      "      (fit <- StructTS(ap, type = \"BSM\"))\n",
      "      par(mfrow = c(1, 2))\n",
      "      plot(cbind(ap, fitted(fit)), plot.type = \"single\")\n",
      "      plot(cbind(ap, tsSmooth(fit)), plot.type = \"single\")\n",
      "\n",
      "      ## End(Not run)\n",
      "\n"
     ]
    },
    {
     "data": {
      "text/html": [
       "<div>\n",
       "<style scoped>\n",
       "    .dataframe tbody tr th:only-of-type {\n",
       "        vertical-align: middle;\n",
       "    }\n",
       "\n",
       "    .dataframe tbody tr th {\n",
       "        vertical-align: top;\n",
       "    }\n",
       "\n",
       "    .dataframe thead th {\n",
       "        text-align: right;\n",
       "    }\n",
       "</style>\n",
       "<table border=\"1\" class=\"dataframe\">\n",
       "  <thead>\n",
       "    <tr style=\"text-align: right;\">\n",
       "      <th></th>\n",
       "      <th>time</th>\n",
       "      <th>value</th>\n",
       "    </tr>\n",
       "  </thead>\n",
       "  <tbody>\n",
       "    <tr>\n",
       "      <th>0</th>\n",
       "      <td>1949.000000</td>\n",
       "      <td>112</td>\n",
       "    </tr>\n",
       "    <tr>\n",
       "      <th>1</th>\n",
       "      <td>1949.083333</td>\n",
       "      <td>118</td>\n",
       "    </tr>\n",
       "    <tr>\n",
       "      <th>2</th>\n",
       "      <td>1949.166667</td>\n",
       "      <td>132</td>\n",
       "    </tr>\n",
       "    <tr>\n",
       "      <th>3</th>\n",
       "      <td>1949.250000</td>\n",
       "      <td>129</td>\n",
       "    </tr>\n",
       "    <tr>\n",
       "      <th>4</th>\n",
       "      <td>1949.333333</td>\n",
       "      <td>121</td>\n",
       "    </tr>\n",
       "  </tbody>\n",
       "</table>\n",
       "</div>"
      ],
      "text/plain": [
       "          time  value\n",
       "0  1949.000000    112\n",
       "1  1949.083333    118\n",
       "2  1949.166667    132\n",
       "3  1949.250000    129\n",
       "4  1949.333333    121"
      ]
     },
     "execution_count": 21,
     "metadata": {},
     "output_type": "execute_result"
    }
   ],
   "source": [
    "# 3. 항공운송인원\n",
    "# 1949~1960년 사이의 국제항공승객인원을 나타내는 시계열데이터\n",
    "data = sm.datasets.get_rdataset('AirPassengers')\n",
    "print(data.__doc__)\n",
    "df = data.data\n",
    "df.head()"
   ]
  },
  {
   "cell_type": "code",
   "execution_count": 28,
   "id": "31927aba-8e1a-4975-928f-b4968d228007",
   "metadata": {},
   "outputs": [
    {
     "data": {
      "text/plain": [
       "datetime.datetime(1949, 2, 1, 0, 0)"
      ]
     },
     "execution_count": 28,
     "metadata": {},
     "output_type": "execute_result"
    }
   ],
   "source": [
    "# yearfraction -> date로 변환함수\n",
    "def yearfraction2datetime(yearfraction, startyear=0):\n",
    "    import datetime\n",
    "    import dateutil\n",
    "    year = int(yearfraction) + startyear\n",
    "    month = int(round(12*(yearfraction - year)))\n",
    "    delta = dateutil.relativedelta.relativedelta(months=month)\n",
    "    date = datetime.datetime(year, 1, 1) + delta\n",
    "    # print(year, month, date)\n",
    "    return date \n",
    "\n",
    "yearfraction2datetime(1949.083333)"
   ]
  },
  {
   "cell_type": "code",
   "execution_count": 29,
   "id": "290ecabd-bf00-4da7-b1d5-1a337e9333f3",
   "metadata": {},
   "outputs": [
    {
     "data": {
      "text/html": [
       "<div>\n",
       "<style scoped>\n",
       "    .dataframe tbody tr th:only-of-type {\n",
       "        vertical-align: middle;\n",
       "    }\n",
       "\n",
       "    .dataframe tbody tr th {\n",
       "        vertical-align: top;\n",
       "    }\n",
       "\n",
       "    .dataframe thead th {\n",
       "        text-align: right;\n",
       "    }\n",
       "</style>\n",
       "<table border=\"1\" class=\"dataframe\">\n",
       "  <thead>\n",
       "    <tr style=\"text-align: right;\">\n",
       "      <th></th>\n",
       "      <th>time</th>\n",
       "      <th>value</th>\n",
       "      <th>datetime</th>\n",
       "    </tr>\n",
       "  </thead>\n",
       "  <tbody>\n",
       "    <tr>\n",
       "      <th>0</th>\n",
       "      <td>1949.000000</td>\n",
       "      <td>112</td>\n",
       "      <td>1949-01-01</td>\n",
       "    </tr>\n",
       "    <tr>\n",
       "      <th>1</th>\n",
       "      <td>1949.083333</td>\n",
       "      <td>118</td>\n",
       "      <td>1949-02-01</td>\n",
       "    </tr>\n",
       "    <tr>\n",
       "      <th>2</th>\n",
       "      <td>1949.166667</td>\n",
       "      <td>132</td>\n",
       "      <td>1949-03-01</td>\n",
       "    </tr>\n",
       "    <tr>\n",
       "      <th>3</th>\n",
       "      <td>1949.250000</td>\n",
       "      <td>129</td>\n",
       "      <td>1949-04-01</td>\n",
       "    </tr>\n",
       "    <tr>\n",
       "      <th>4</th>\n",
       "      <td>1949.333333</td>\n",
       "      <td>121</td>\n",
       "      <td>1949-05-01</td>\n",
       "    </tr>\n",
       "  </tbody>\n",
       "</table>\n",
       "</div>"
      ],
      "text/plain": [
       "          time  value   datetime\n",
       "0  1949.000000    112 1949-01-01\n",
       "1  1949.083333    118 1949-02-01\n",
       "2  1949.166667    132 1949-03-01\n",
       "3  1949.250000    129 1949-04-01\n",
       "4  1949.333333    121 1949-05-01"
      ]
     },
     "execution_count": 29,
     "metadata": {},
     "output_type": "execute_result"
    }
   ],
   "source": [
    "# df에 datetime컬럼을 추가 (time을 datetime으로 변환)\n",
    "# map()함수이용\n",
    "df['datetime'] = df.time.map(yearfraction2datetime)\n",
    "df.columns\n",
    "df.head()"
   ]
  },
  {
   "cell_type": "code",
   "execution_count": 30,
   "id": "d60d8264-0aaf-4490-b1ad-f6af650d7452",
   "metadata": {},
   "outputs": [
    {
     "data": {
      "image/png": "[encoded data removed]",
      "text/plain": [
       "<Figure size 640x480 with 1 Axes>"
      ]
     },
     "metadata": {},
     "output_type": "display_data"
    }
   ],
   "source": [
    "df.plot(x='datetime', y='value')\n",
    "plt.title(data.title)\n",
    "plt.show()"
   ]
  },
  {
   "cell_type": "markdown",
   "id": "d5accc67-2d78-48fd-bfc7-c2b290a4cab2",
   "metadata": {},
   "source": [
    "#### 2. scikit-learn \n",
    "* 머신러닝을 위한 패키지.\n",
    "\n",
    "1. 데이터셋\n",
    "  - load계열  : 패키지안에 내장된 소량의 데이터\n",
    "  - fetch계열 : 인터넷을 통해 다운해야할 대량의 데이터\n",
    "  - make계열  : 확률분포를 사용하여 회귀분석용, 분류용...등의 가상의 데이터\n",
    "  - 데이터셋의 형태\n",
    "    * data(필수)   : 독립변수, ndarray\n",
    "    * target(필수) : 종속변수, ndarray\n",
    "    * feature_names(옵션): 독립변수의 이름의 목록\n",
    "    * target_names(옵션) : 종속변수의 이름의 목록\n",
    "    * DESCR(옵션) : 데이터셋의 설명   \n",
    " \n",
    "2. 데이터전처리(preprocessing)\n",
    "3. 지도학습(Supervised Learning)\n",
    "4. 비지도학습(Unsupervised Learning)\n",
    "5. 모델평가 및 선택(Evaluation and Selection)"
   ]
  },
  {
   "cell_type": "code",
   "execution_count": 31,
   "id": "13cfd1ab-a9f1-4738-addc-3a80425db284",
   "metadata": {},
   "outputs": [],
   "source": [
    "from sklearn.datasets import load_digits\n",
    "import seaborn as sns"
   ]
  },
  {
   "cell_type": "code",
   "execution_count": 32,
   "id": "bcbe51eb-9d55-4f1b-8eb9-fd5fc839c510",
   "metadata": {},
   "outputs": [
    {
     "name": "stdout",
     "output_type": "stream",
     "text": [
      "<class 'sklearn.utils._bunch.Bunch'> {'data': array([[ 0.,  0.,  5., ...,  0.,  0.,  0.],\n",
      "       [ 0.,  0.,  0., ..., 10.,  0.,  0.],\n",
      "       [ 0.,  0.,  0., ..., 16.,  9.,  0.],\n",
      "       ...,\n",
      "       [ 0.,  0.,  1., ...,  6.,  0.,  0.],\n",
      "       [ 0.,  0.,  2., ..., 12.,  0.,  0.],\n",
      "       [ 0.,  0., 10., ..., 12.,  1.,  0.]]), 'target': array([0, 1, 2, ..., 8, 9, 8]), 'frame': None, 'feature_names': ['pixel_0_0', 'pixel_0_1', 'pixel_0_2', 'pixel_0_3', 'pixel_0_4', 'pixel_0_5', 'pixel_0_6', 'pixel_0_7', 'pixel_1_0', 'pixel_1_1', 'pixel_1_2', 'pixel_1_3', 'pixel_1_4', 'pixel_1_5', 'pixel_1_6', 'pixel_1_7', 'pixel_2_0', 'pixel_2_1', 'pixel_2_2', 'pixel_2_3', 'pixel_2_4', 'pixel_2_5', 'pixel_2_6', 'pixel_2_7', 'pixel_3_0', 'pixel_3_1', 'pixel_3_2', 'pixel_3_3', 'pixel_3_4', 'pixel_3_5', 'pixel_3_6', 'pixel_3_7', 'pixel_4_0', 'pixel_4_1', 'pixel_4_2', 'pixel_4_3', 'pixel_4_4', 'pixel_4_5', 'pixel_4_6', 'pixel_4_7', 'pixel_5_0', 'pixel_5_1', 'pixel_5_2', 'pixel_5_3', 'pixel_5_4', 'pixel_5_5', 'pixel_5_6', 'pixel_5_7', 'pixel_6_0', 'pixel_6_1', 'pixel_6_2', 'pixel_6_3', 'pixel_6_4', 'pixel_6_5', 'pixel_6_6', 'pixel_6_7', 'pixel_7_0', 'pixel_7_1', 'pixel_7_2', 'pixel_7_3', 'pixel_7_4', 'pixel_7_5', 'pixel_7_6', 'pixel_7_7'], 'target_names': array([0, 1, 2, 3, 4, 5, 6, 7, 8, 9]), 'images': array([[[ 0.,  0.,  5., ...,  1.,  0.,  0.],\n",
      "        [ 0.,  0., 13., ..., 15.,  5.,  0.],\n",
      "        [ 0.,  3., 15., ..., 11.,  8.,  0.],\n",
      "        ...,\n",
      "        [ 0.,  4., 11., ..., 12.,  7.,  0.],\n",
      "        [ 0.,  2., 14., ..., 12.,  0.,  0.],\n",
      "        [ 0.,  0.,  6., ...,  0.,  0.,  0.]],\n",
      "\n",
      "       [[ 0.,  0.,  0., ...,  5.,  0.,  0.],\n",
      "        [ 0.,  0.,  0., ...,  9.,  0.,  0.],\n",
      "        [ 0.,  0.,  3., ...,  6.,  0.,  0.],\n",
      "        ...,\n",
      "        [ 0.,  0.,  1., ...,  6.,  0.,  0.],\n",
      "        [ 0.,  0.,  1., ...,  6.,  0.,  0.],\n",
      "        [ 0.,  0.,  0., ..., 10.,  0.,  0.]],\n",
      "\n",
      "       [[ 0.,  0.,  0., ..., 12.,  0.,  0.],\n",
      "        [ 0.,  0.,  3., ..., 14.,  0.,  0.],\n",
      "        [ 0.,  0.,  8., ..., 16.,  0.,  0.],\n",
      "        ...,\n",
      "        [ 0.,  9., 16., ...,  0.,  0.,  0.],\n",
      "        [ 0.,  3., 13., ..., 11.,  5.,  0.],\n",
      "        [ 0.,  0.,  0., ..., 16.,  9.,  0.]],\n",
      "\n",
      "       ...,\n",
      "\n",
      "       [[ 0.,  0.,  1., ...,  1.,  0.,  0.],\n",
      "        [ 0.,  0., 13., ...,  2.,  1.,  0.],\n",
      "        [ 0.,  0., 16., ..., 16.,  5.,  0.],\n",
      "        ...,\n",
      "        [ 0.,  0., 16., ..., 15.,  0.,  0.],\n",
      "        [ 0.,  0., 15., ..., 16.,  0.,  0.],\n",
      "        [ 0.,  0.,  2., ...,  6.,  0.,  0.]],\n",
      "\n",
      "       [[ 0.,  0.,  2., ...,  0.,  0.,  0.],\n",
      "        [ 0.,  0., 14., ..., 15.,  1.,  0.],\n",
      "        [ 0.,  4., 16., ..., 16.,  7.,  0.],\n",
      "        ...,\n",
      "        [ 0.,  0.,  0., ..., 16.,  2.,  0.],\n",
      "        [ 0.,  0.,  4., ..., 16.,  2.,  0.],\n",
      "        [ 0.,  0.,  5., ..., 12.,  0.,  0.]],\n",
      "\n",
      "       [[ 0.,  0., 10., ...,  1.,  0.,  0.],\n",
      "        [ 0.,  2., 16., ...,  1.,  0.,  0.],\n",
      "        [ 0.,  0., 15., ..., 15.,  0.,  0.],\n",
      "        ...,\n",
      "        [ 0.,  4., 16., ..., 16.,  6.,  0.],\n",
      "        [ 0.,  8., 16., ..., 16.,  8.,  0.],\n",
      "        [ 0.,  1.,  8., ..., 12.,  1.,  0.]]]), 'DESCR': \".. _digits_dataset:\\n\\nOptical recognition of handwritten digits dataset\\n--------------------------------------------------\\n\\n**Data Set Characteristics:**\\n\\n    :Number of Instances: 1797\\n    :Number of Attributes: 64\\n    :Attribute Information: 8x8 image of integer pixels in the range 0..16.\\n    :Missing Attribute Values: None\\n    :Creator: E. Alpaydin (alpaydin '@' boun.edu.tr)\\n    :Date: July; 1998\\n\\nThis is a copy of the test set of the UCI ML hand-written digits datasets\\nhttps://archive.ics.uci.edu/ml/datasets/Optical+Recognition+of+Handwritten+Digits\\n\\nThe data set contains images of hand-written digits: 10 classes where\\neach class refers to a digit.\\n\\nPreprocessing programs made available by NIST were used to extract\\nnormalized bitmaps of handwritten digits from a preprinted form. From a\\ntotal of 43 people, 30 contributed to the training set and different 13\\nto the test set. 32x32 bitmaps are divided into nonoverlapping blocks of\\n4x4 and the number of on pixels are counted in each block. This generates\\nan input matrix of 8x8 where each element is an integer in the range\\n0..16. This reduces dimensionality and gives invariance to small\\ndistortions.\\n\\nFor info on NIST preprocessing routines, see M. D. Garris, J. L. Blue, G.\\nT. Candela, D. L. Dimmick, J. Geist, P. J. Grother, S. A. Janet, and C.\\nL. Wilson, NIST Form-Based Handprint Recognition System, NISTIR 5469,\\n1994.\\n\\n.. topic:: References\\n\\n  - C. Kaynak (1995) Methods of Combining Multiple Classifiers and Their\\n    Applications to Handwritten Digit Recognition, MSc Thesis, Institute of\\n    Graduate Studies in Science and Engineering, Bogazici University.\\n  - E. Alpaydin, C. Kaynak (1998) Cascading Classifiers, Kybernetika.\\n  - Ken Tang and Ponnuthurai N. Suganthan and Xi Yao and A. Kai Qin.\\n    Linear dimensionalityreduction using relevance weighted LDA. School of\\n    Electrical and Electronic Engineering Nanyang Technological University.\\n    2005.\\n  - Claudio Gentile. A New Approximate Maximal Margin Classification\\n    Algorithm. NIPS. 2000.\\n\"}\n"
     ]
    }
   ],
   "source": [
    "# load_digits는 손으로 쓴 숫자의 이미지 데이터(8x8=64)\n",
    "# MNIST handwritten digit images\n",
    "digits = load_digits()\n",
    "print(type(digits), digits)"
   ]
  },
  {
   "cell_type": "code",
   "execution_count": 34,
   "id": "22448ef3-fd54-40ac-abd5-30573a32d232",
   "metadata": {},
   "outputs": [
    {
     "name": "stdout",
     "output_type": "stream",
     "text": [
      ".. _digits_dataset:\n",
      "\n",
      "Optical recognition of handwritten digits dataset\n",
      "--------------------------------------------------\n",
      "\n",
      "**Data Set Characteristics:**\n",
      "\n",
      "    :Number of Instances: 1797\n",
      "    :Number of Attributes: 64\n",
      "    :Attribute Information: 8x8 image of integer pixels in the range 0..16.\n",
      "    :Missing Attribute Values: None\n",
      "    :Creator: E. Alpaydin (alpaydin '@' boun.edu.tr)\n",
      "    :Date: July; 1998\n",
      "\n",
      "This is a copy of the test set of the UCI ML hand-written digits datasets\n",
      "https://archive.ics.uci.edu/ml/datasets/Optical+Recognition+of+Handwritten+Digits\n",
      "\n",
      "The data set contains images of hand-written digits: 10 classes where\n",
      "each class refers to a digit.\n",
      "\n",
      "Preprocessing programs made available by NIST were used to extract\n",
      "normalized bitmaps of handwritten digits from a preprinted form. From a\n",
      "total of 43 people, 30 contributed to the training set and different 13\n",
      "to the test set. 32x32 bitmaps are divided into nonoverlapping blocks of\n",
      "4x4 and the number of on pixels are counted in each block. This generates\n",
      "an input matrix of 8x8 where each element is an integer in the range\n",
      "0..16. This reduces dimensionality and gives invariance to small\n",
      "distortions.\n",
      "\n",
      "For info on NIST preprocessing routines, see M. D. Garris, J. L. Blue, G.\n",
      "T. Candela, D. L. Dimmick, J. Geist, P. J. Grother, S. A. Janet, and C.\n",
      "L. Wilson, NIST Form-Based Handprint Recognition System, NISTIR 5469,\n",
      "1994.\n",
      "\n",
      ".. topic:: References\n",
      "\n",
      "  - C. Kaynak (1995) Methods of Combining Multiple Classifiers and Their\n",
      "    Applications to Handwritten Digit Recognition, MSc Thesis, Institute of\n",
      "    Graduate Studies in Science and Engineering, Bogazici University.\n",
      "  - E. Alpaydin, C. Kaynak (1998) Cascading Classifiers, Kybernetika.\n",
      "  - Ken Tang and Ponnuthurai N. Suganthan and Xi Yao and A. Kai Qin.\n",
      "    Linear dimensionalityreduction using relevance weighted LDA. School of\n",
      "    Electrical and Electronic Engineering Nanyang Technological University.\n",
      "    2005.\n",
      "  - Claudio Gentile. A New Approximate Maximal Margin Classification\n",
      "    Algorithm. NIPS. 2000.\n",
      "\n"
     ]
    }
   ],
   "source": [
    "print(digits.DESCR)"
   ]
  },
  {
   "cell_type": "code",
   "execution_count": 37,
   "id": "13cbf9c3-ec3d-4668-8782-ab7c5db59769",
   "metadata": {},
   "outputs": [
    {
     "name": "stdout",
     "output_type": "stream",
     "text": [
      "<class 'numpy.ndarray'> 64 [ 0.  0.  5. 13.  9.  1.  0.  0.  0.  0. 13. 15. 10. 15.  5.  0.  0.  3.\n",
      " 15.  2.  0. 11.  8.  0.  0.  4. 12.  0.  0.  8.  8.  0.  0.  5.  8.  0.\n",
      "  0.  9.  8.  0.  0.  4. 11.  0.  1. 12.  7.  0.  0.  2. 14.  5. 10. 12.\n",
      "  0.  0.  0.  0.  6. 13. 10.  0.  0.  0.]\n",
      "[ 0.  0.  5. 13.  9.  1.  0.  0.  0.  0. 13. 15. 10. 15.  5.  0.  0.  3.\n",
      " 15.  2.  0. 11.  8.  0.  0.  4. 12.  0.  0.  8.  8.  0.  0.  5.  8.  0.\n",
      "  0.  9.  8.  0.  0.  4. 11.  0.  1. 12.  7.  0.  0.  2. 14.  5. 10. 12.\n",
      "  0.  0.  0.  0.  6. 13. 10.  0.  0.  0.]의 이미지의 숫자는 = 0\n"
     ]
    }
   ],
   "source": [
    "print(type(digits.data[0]), len(digits.data[0]), digits.data[0])\n",
    "print(f'{digits.data[0]}의 이미지의 숫자는 = {digits.target[0]}')"
   ]
  },
  {
   "cell_type": "code",
   "execution_count": 40,
   "id": "fbde56de-5634-43e6-92bf-21e786a2b0cf",
   "metadata": {},
   "outputs": [
    {
     "name": "stdout",
     "output_type": "stream",
     "text": [
      "[ 0.  0.  5. 13.  9.  1.  0.  0.  0.  0. 13. 15. 10. 15.  5.  0.  0.  3.\n",
      " 15.  2.  0. 11.  8.  0.  0.  4. 12.  0.  0.  8.  8.  0.  0.  5.  8.  0.\n",
      "  0.  9.  8.  0.  0.  4. 11.  0.  1. 12.  7.  0.  0.  2. 14.  5. 10. 12.\n",
      "  0.  0.  0.  0.  6. 13. 10.  0.  0.  0.]의 이미지의 숫자는 = 0\n"
     ]
    }
   ],
   "source": [
    "print(f'{digits.data[0]}의 이미지의 숫자는 = {digits.target[0]}')"
   ]
  },
  {
   "cell_type": "code",
   "execution_count": 42,
   "id": "1a2ba62f-ae97-477e-b224-b02d615ed972",
   "metadata": {},
   "outputs": [
    {
     "name": "stdout",
     "output_type": "stream",
     "text": [
      "[[ 0.  0.  5. 13.  9.  1.  0.  0.]\n",
      " [ 0.  0. 13. 15. 10. 15.  5.  0.]\n",
      " [ 0.  3. 15.  2.  0. 11.  8.  0.]\n",
      " [ 0.  4. 12.  0.  0.  8.  8.  0.]\n",
      " [ 0.  5.  8.  0.  0.  9.  8.  0.]\n",
      " [ 0.  4. 11.  0.  1. 12.  7.  0.]\n",
      " [ 0.  2. 14.  5. 10. 12.  0.  0.]\n",
      " [ 0.  0.  6. 13. 10.  0.  0.  0.]] (8, 8)\n"
     ]
    }
   ],
   "source": [
    "print(digits.images[0], digits.images[0].shape)"
   ]
  },
  {
   "cell_type": "code",
   "execution_count": 59,
   "id": "a7e48711-610e-4dc1-b45b-04e3faadedce",
   "metadata": {},
   "outputs": [
    {
     "name": "stdin",
     "output_type": "stream",
     "text": [
      "숫자이미지의 인덱스를 입력하세요!! =>  100\n"
     ]
    },
    {
     "data": {
      "image/png": "[encoded data removed]",
      "text/plain": [
       "<Figure size 640x480 with 2 Axes>"
      ]
     },
     "metadata": {},
     "output_type": "display_data"
    }
   ],
   "source": [
    "# digits이미지의 시각화\n",
    "idx = int(input('숫자이미지의 인덱스를 입력하세요!! => '))\n",
    "sns.heatmap(digits.images[idx], annot=True, fmt=\"2.0f\", cbar=True\n",
    "           , xticklabels=True, yticklabels=True, cmap='YlGnBu')\n",
    "plt.title(f\"MNIST handwrite digit image {idx} = {digits.target[idx]}\")\n",
    "plt.show()"
   ]
  },
  {
   "cell_type": "code",
   "execution_count": 64,
   "id": "80340932-bb08-4259-b585-44ed1759c26f",
   "metadata": {},
   "outputs": [
    {
     "data": {
      "image/png": "[encoded data removed]",
      "text/plain": [
       "<Figure size 800x200 with 8 Axes>"
      ]
     },
     "metadata": {},
     "output_type": "display_data"
    }
   ],
   "source": [
    "# 샘플이미지 선택\n",
    "samples = [200,10,20,30,100,101,200,33] # 샘플이미지의 index\n",
    "d = []\n",
    "for i in range(len(samples)):\n",
    "    d.append(digits.images[samples[i]])\n",
    "\n",
    "plt.figure(figsize=(8,2))\n",
    "\n",
    "for i in range(len(samples)):\n",
    "    plt.subplot(1,8,i+1)\n",
    "    plt.imshow(d[i], interpolation='nearest', cmap=plt.cm.bone)\n",
    "    plt.grid(False)\n",
    "    plt.xticks([])\n",
    "    plt.yticks([])\n",
    "    plt.title(f'image {i+1}')\n",
    "\n",
    "plt.suptitle('샘플숫자의 이미지')\n",
    "plt.tight_layout()\n",
    "plt.show()"
   ]
  },
  {
   "cell_type": "code",
   "execution_count": 70,
   "id": "d57b2ae3-2174-444a-9f65-95e13bc27dcf",
   "metadata": {},
   "outputs": [
    {
     "name": "stdout",
     "output_type": "stream",
     "text": [
      "(8, 8)\n",
      "(64,)\n",
      "(8, 8)\n"
     ]
    }
   ],
   "source": [
    "# 예측모델에 맞게 데이터형태의 변환해서 전달 \n",
    "# reshape(), flatten()\n",
    "print(digits.images[0].shape)\n",
    "\n",
    "# flatten은 2차원 -> 1차원 변환\n",
    "print(digits.images[0].flatten().shape) \n",
    "\n",
    "# reshape 1차원 -> 2차원 변환\n",
    "print(digits.images[0].flatten().reshape((8,8)).shape) "
   ]
  },
  {
   "cell_type": "code",
   "execution_count": 74,
   "id": "ec393aa9-991a-490e-a850-2bc262ab5111",
   "metadata": {},
   "outputs": [
    {
     "name": "stdout",
     "output_type": "stream",
     "text": [
      "[[ 0.  0.  0.  0. 11. 12.  0.  0.]\n",
      " [ 0.  0.  0.  3. 15. 14.  0.  0.]\n",
      " [ 0.  0.  0. 11. 16. 11.  0.  0.]\n",
      " [ 0.  0.  9. 16. 16. 10.  0.  0.]\n",
      " [ 0.  4. 16. 12. 16. 12.  0.  0.]\n",
      " [ 0.  3. 10.  3. 16. 11.  0.  0.]\n",
      " [ 0.  0.  0.  0. 16. 14.  0.  0.]\n",
      " [ 0.  0.  0.  0. 11. 11.  0.  0.]]\n",
      "[[ 0.]\n",
      " [ 0.]\n",
      " [ 0.]\n",
      " [ 0.]\n",
      " [11.]\n",
      " [12.]\n",
      " [ 0.]\n",
      " [ 0.]\n",
      " [ 0.]\n",
      " [ 0.]\n",
      " [ 0.]\n",
      " [ 3.]\n",
      " [15.]\n",
      " [14.]\n",
      " [ 0.]\n",
      " [ 0.]\n",
      " [ 0.]\n",
      " [ 0.]\n",
      " [ 0.]\n",
      " [11.]\n",
      " [16.]\n",
      " [11.]\n",
      " [ 0.]\n",
      " [ 0.]\n",
      " [ 0.]\n",
      " [ 0.]\n",
      " [ 9.]\n",
      " [16.]\n",
      " [16.]\n",
      " [10.]\n",
      " [ 0.]\n",
      " [ 0.]\n",
      " [ 0.]\n",
      " [ 4.]\n",
      " [16.]\n",
      " [12.]\n",
      " [16.]\n",
      " [12.]\n",
      " [ 0.]\n",
      " [ 0.]\n",
      " [ 0.]\n",
      " [ 3.]\n",
      " [10.]\n",
      " [ 3.]\n",
      " [16.]\n",
      " [11.]\n",
      " [ 0.]\n",
      " [ 0.]\n",
      " [ 0.]\n",
      " [ 0.]\n",
      " [ 0.]\n",
      " [ 0.]\n",
      " [16.]\n",
      " [14.]\n",
      " [ 0.]\n",
      " [ 0.]\n",
      " [ 0.]\n",
      " [ 0.]\n",
      " [ 0.]\n",
      " [ 0.]\n",
      " [11.]\n",
      " [11.]\n",
      " [ 0.]\n",
      " [ 0.]]\n"
     ]
    }
   ],
   "source": [
    "# 벡터화(vector)된 이미지의 시각화\n",
    "v = []\n",
    "for i in range(len(samples)):\n",
    "    v.append(d[i].reshape(64, 1))\n",
    "print(d[0])\n",
    "print(v[0])"
   ]
  },
  {
   "cell_type": "code",
   "execution_count": 79,
   "id": "03a417ec-a071-400f-9be0-d0c1dced14e5",
   "metadata": {},
   "outputs": [
    {
     "data": {
      "image/png": "[encoded data removed]",
      "text/plain": [
       "<Figure size 640x480 with 8 Axes>"
      ]
     },
     "metadata": {},
     "output_type": "display_data"
    }
   ],
   "source": [
    "for i in range(len(samples)):\n",
    "    plt.subplot(1,8,i+1)\n",
    "    plt.imshow(v[i], interpolation='nearest'\n",
    "               , cmap=plt.cm.bone_r, aspect=0.4)\n",
    "    plt.grid(False)\n",
    "    plt.xticks([])\n",
    "    plt.yticks([])\n",
    "    plt.title(f'vector {i+1}')\n",
    "\n",
    "plt.suptitle('벡터화된 이미지', y=1.05)\n",
    "plt.tight_layout()\n",
    "plt.show()"
   ]
  }
 ],
 "metadata": {
  "kernelspec": {
   "display_name": "Python 3 (ipykernel)",
   "language": "python",
   "name": "python3"
  },
  "language_info": {
   "codemirror_mode": {
    "name": "ipython",
    "version": 3
   },
   "file_extension": ".py",
   "mimetype": "text/x-python",
   "name": "python",
   "nbconvert_exporter": "python",
   "pygments_lexer": "ipython3",
   "version": "3.11.7"
  }
 },
 "nbformat": 4,
 "nbformat_minor": 5
}
